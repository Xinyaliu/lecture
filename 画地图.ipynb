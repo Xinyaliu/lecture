{
 "cells": [
  {
   "cell_type": "code",
   "execution_count": 31,
   "metadata": {},
   "outputs": [
    {
     "data": {
      "text/plain": [
       "'C:\\\\Users\\\\lxy\\\\render.html'"
      ]
     },
     "execution_count": 31,
     "metadata": {},
     "output_type": "execute_result"
    }
   ],
   "source": [
    "import pyecharts \n",
    "import pandas as pd\n",
    "data = pd.read_excel('能源强度.xlsx')\n",
    "#data = data.iloc[:-1,:]\n",
    "provinces = data.Name.values\n",
    "GW = data['intensity'].values\n",
    "\n",
    "map1 = (\n",
    "Map(init_opts=pyecharts.options.InitOpts(width = '800px', height = '600px', page_title = '装机潜力GW')) # 更改画布大小与html文件的标题\n",
    ".add(\n",
    "\" \", # 数据名称\n",
    "[list(z) for z in zip(provinces, GW)], # 数据\n",
    "\"china\", # 中国地图\n",
    "is_map_symbol_show=False, # 不显示标记图形（好像没啥用\n",
    ")\n",
    ".set_global_opts(\n",
    "title_opts=opts.TitleOpts(title=\"全国各地区风力资源可开发量 万千瓦时\"), # 改变图表标题\n",
    "visualmap_opts=opts.VisualMapOpts( \n",
    "is_piecewise=True, # 刻度是非连续的\n",
    "pieces = [ # 规定刻度的范围及颜色\n",
    "{\"min\": 5000, \"max\": 20000},\n",
    "{\"min\": 2000, \"max\": 5000},\n",
    "{\"min\": 1500, \"max\": 2000},\n",
    "{\"min\": 1000, \"max\": 1500},\n",
    "{\"min\": 500, \"max\": 1000,},\n",
    "{\"min\": 0, \"max\": 500,\"color\" : 'cadetblue'},\n",
    "]\n",
    "),\n",
    ")\n",
    ".set_series_opts(label_opts=opts.LabelOpts(is_show=False)) # 不显示标记（就是那个图上的红点点\n",
    ")\n",
    "map1.render()\n",
    "\n",
    "#make_snapshot(snapshot, map1.render(), \"bar.png\") # 生成图片"
   ]
  },
  {
   "cell_type": "code",
   "execution_count": 54,
   "metadata": {},
   "outputs": [
    {
     "data": {
      "text/plain": [
       "({'min': 0, 'max': 10, 'color': 'rgb(255,192,0)'},)"
      ]
     },
     "execution_count": 54,
     "metadata": {},
     "output_type": "execute_result"
    }
   ],
   "source": [
    "{\"min\": 60, \"max\": 70, \"color\" : 'rgb(91,155,213)'},\n",
    "{\"min\": 50, \"max\": 60,\"color\" : 'rgb(155,194,230)'},\n",
    "{\"min\": 40, \"max\": 50,\"color\" : 'rgb(189,215,238)'},\n",
    "{\"min\": 30, \"max\": 40,\"color\" : 'rgb(255,242,204)'},\n",
    "{\"min\": 20, \"max\": 30,\"color\" : 'rgb(255,230,153)'},\n",
    "{\"min\": 10, \"max\": 20,\"color\" : 'rgb(255,217,102)'},\n",
    "{\"min\": 0, \"max\": 10,\"color\" : 'rgb(255,192,0)'},"
   ]
  },
  {
   "cell_type": "code",
   "execution_count": 39,
   "metadata": {},
   "outputs": [
    {
     "data": {
      "text/html": [
       "<div>\n",
       "<style scoped>\n",
       "    .dataframe tbody tr th:only-of-type {\n",
       "        vertical-align: middle;\n",
       "    }\n",
       "\n",
       "    .dataframe tbody tr th {\n",
       "        vertical-align: top;\n",
       "    }\n",
       "\n",
       "    .dataframe thead th {\n",
       "        text-align: right;\n",
       "    }\n",
       "</style>\n",
       "<table border=\"1\" class=\"dataframe\">\n",
       "  <thead>\n",
       "    <tr style=\"text-align: right;\">\n",
       "      <th></th>\n",
       "      <th>Name</th>\n",
       "      <th>可开发量</th>\n",
       "      <th>2017 年风电累计并网容量（万千瓦）</th>\n",
       "      <th>已开发占比</th>\n",
       "    </tr>\n",
       "  </thead>\n",
       "  <tbody>\n",
       "    <tr>\n",
       "      <th>0</th>\n",
       "      <td>福建</td>\n",
       "      <td>1248</td>\n",
       "      <td>252</td>\n",
       "      <td>0.20</td>\n",
       "    </tr>\n",
       "    <tr>\n",
       "      <th>1</th>\n",
       "      <td>山西</td>\n",
       "      <td>4745</td>\n",
       "      <td>872</td>\n",
       "      <td>0.18</td>\n",
       "    </tr>\n",
       "    <tr>\n",
       "      <th>2</th>\n",
       "      <td>浙江</td>\n",
       "      <td>791</td>\n",
       "      <td>133</td>\n",
       "      <td>0.17</td>\n",
       "    </tr>\n",
       "    <tr>\n",
       "      <th>3</th>\n",
       "      <td>江苏</td>\n",
       "      <td>4362</td>\n",
       "      <td>656</td>\n",
       "      <td>0.15</td>\n",
       "    </tr>\n",
       "    <tr>\n",
       "      <th>4</th>\n",
       "      <td>云南</td>\n",
       "      <td>6110</td>\n",
       "      <td>819</td>\n",
       "      <td>0.13</td>\n",
       "    </tr>\n",
       "  </tbody>\n",
       "</table>\n",
       "</div>"
      ],
      "text/plain": [
       "  Name  可开发量  2017 年风电累计并网容量（万千瓦）  已开发占比\n",
       "0   福建  1248                  252   0.20\n",
       "1   山西  4745                  872   0.18\n",
       "2   浙江   791                  133   0.17\n",
       "3   江苏  4362                  656   0.15\n",
       "4   云南  6110                  819   0.13"
      ]
     },
     "execution_count": 39,
     "metadata": {},
     "output_type": "execute_result"
    }
   ],
   "source": [
    "data.head()"
   ]
  },
  {
   "cell_type": "code",
   "execution_count": 43,
   "metadata": {},
   "outputs": [
    {
     "data": {
      "text/plain": [
       "array(['福建', '山西', '浙江', '江苏', '云南', '河北', '山东', '贵州', '湖南', '湖北', '广东',\n",
       "       '江西', '重庆', '陕西', '安徽', '河南', '广西', '四川', '海南'], dtype=object)"
      ]
     },
     "execution_count": 43,
     "metadata": {},
     "output_type": "execute_result"
    }
   ],
   "source": [
    "provinces"
   ]
  },
  {
   "cell_type": "code",
   "execution_count": 44,
   "metadata": {},
   "outputs": [
    {
     "data": {
      "text/plain": [
       "array([ 1248,  4745,   791,  4362,  6110,  9547,  9575,  3754,  2837,\n",
       "        3798,  5193,  2932,   623,  8046,  6601,  8120,  7017, 10537,\n",
       "        1687], dtype=int64)"
      ]
     },
     "execution_count": 44,
     "metadata": {},
     "output_type": "execute_result"
    }
   ],
   "source": [
    "GW"
   ]
  },
  {
   "cell_type": "code",
   "execution_count": 2,
   "metadata": {},
   "outputs": [],
   "source": [
    "from pyecharts.charts import Map\n",
    "from pyecharts import options as opts\n",
    "from pyecharts.render import make_snapshot\n",
    "from snapshot_selenium import snapshot\n",
    "from pyecharts.globals import ThemeType\n",
    "import pandas as pd"
   ]
  },
  {
   "cell_type": "code",
   "execution_count": 5,
   "metadata": {},
   "outputs": [],
   "source": [
    "import pyecharts"
   ]
  },
  {
   "cell_type": "code",
   "execution_count": null,
   "metadata": {},
   "outputs": [],
   "source": []
  }
 ],
 "metadata": {
  "kernelspec": {
   "display_name": "Python 3",
   "language": "python",
   "name": "python3"
  },
  "language_info": {
   "codemirror_mode": {
    "name": "ipython",
    "version": 3
   },
   "file_extension": ".py",
   "mimetype": "text/x-python",
   "name": "python",
   "nbconvert_exporter": "python",
   "pygments_lexer": "ipython3",
   "version": "3.7.3"
  }
 },
 "nbformat": 4,
 "nbformat_minor": 2
}
