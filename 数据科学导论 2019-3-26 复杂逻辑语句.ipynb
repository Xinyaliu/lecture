{
 "cells": [
  {
   "cell_type": "markdown",
   "metadata": {},
   "source": [
    "# 数据科学基础第一次作业\n",
    "201620701 刘昕雅"
   ]
  },
  {
   "cell_type": "markdown",
   "metadata": {},
   "source": [
    "# 最高最低温度"
   ]
  },
  {
   "cell_type": "code",
   "execution_count": 2,
   "metadata": {},
   "outputs": [
    {
     "name": "stdout",
     "output_type": "stream",
     "text": [
      "[11.472 12.016 11.711 11.392]\n"
     ]
    }
   ],
   "source": [
    "import numpy as np\n",
    "make_array=lambda*args:np.asarray(args)\n",
    "base_high=14.48\n",
    "highs=make_array(base_high-0.880,base_high-0.093,base_high+0.105,base_high+0.64)\n",
    "base_low=3.00\n",
    "lows=make_array(base_low-0.872,base_low-0.629,base_low-0.126,base_low+0.728)\n",
    "diff=highs-lows\n",
    "print(diff)\n",
    "#最高温=np.array([13.6,14.387,14.585,15.164])\n",
    "#最低温=np.array([2.128,2.371,2.874,3.728])"
   ]
  },
  {
   "cell_type": "code",
   "execution_count": 13,
   "metadata": {},
   "outputs": [
    {
     "data": {
      "text/plain": [
       "str"
      ]
     },
     "execution_count": 13,
     "metadata": {},
     "output_type": "execute_result"
    }
   ],
   "source": [
    "type(\"a\")"
   ]
  },
  {
   "cell_type": "markdown",
   "metadata": {},
   "source": [
    "# BMI指数"
   ]
  },
  {
   "cell_type": "code",
   "execution_count": 3,
   "metadata": {},
   "outputs": [
    {
     "name": "stdout",
     "output_type": "stream",
     "text": [
      " 请输入您的身高（厘米）1.74\n",
      " 请输入您的体重（千克）53\n",
      "身高输入错误，请以厘米为单位\n"
     ]
    }
   ],
   "source": [
    "h=float(input(\" 请输入您的身高（厘米）\"))\n",
    "w=float(input(\" 请输入您的体重（千克）\"))\n",
    "BMI=w/(100*h*h)\n",
    "if type(h)==str or type(w)==str:\n",
    "    print(\"请输入正确身高体重\")\n",
    "elif h<50 or h>250 :\n",
    "    print(\"身高输入错误，请以厘米为单位\")\n",
    "elif w<2 or w>150 :\n",
    "    print(\"体重输入错误，请以千克为单位\")\n",
    "elif BMI<18.5:\n",
    "    print(\"体重过轻\")\n",
    "elif BMI<24:\n",
    "    print(\"体重正常\")\n",
    "elif BMI<28:\n",
    "    print(\"超重\")\n",
    "elif BMI <35:\n",
    "    print(\"肥胖\")\n",
    "else:\n",
    "    print(\"过度肥胖\")"
   ]
  },
  {
   "cell_type": "markdown",
   "metadata": {},
   "source": [
    "# 结婚年龄"
   ]
  },
  {
   "cell_type": "code",
   "execution_count": 29,
   "metadata": {},
   "outputs": [
    {
     "name": "stdout",
     "output_type": "stream",
     "text": [
      " 男性年龄12\n",
      " 女性年龄34\n",
      "不要这么急，你们至少还要再等 10 年\n"
     ]
    }
   ],
   "source": [
    "#判断两个人是否可以结婚\n",
    "a=int(input(\" 男性年龄\"))\n",
    "b=int(input(\" 女性年龄\"))\n",
    "if (a>=22) and (b>=20):\n",
    "    print(\"祝贺你们，可以结婚了\")\n",
    "else:\n",
    "    c=max(22-a,20-b)\n",
    "    print('不要这么急，你们至少还要再等 %d 年'%c)"
   ]
  },
  {
   "cell_type": "code",
   "execution_count": 5,
   "metadata": {},
   "outputs": [
    {
     "name": "stdout",
     "output_type": "stream",
     "text": [
      "请输入性别 男/女男\n",
      "请输入年龄15\n",
      "不要这么急，小伙子，你还小，至少还要再等 7 年\n"
     ]
    }
   ],
   "source": [
    "a=input(\"请输入性别 男/女\")\n",
    "b=int(input(\"请输入年龄\"))\n",
    "list1=[\"男\",\"女\"]\n",
    "if a not in list1:\n",
    "    print(\"性别输入错误\") \n",
    "elif (a==\"男\" and b >=22) or (a==\"女\"and b>=20) :\n",
    "    print(\"可以结婚了\")\n",
    "elif (a==\"男\"):\n",
    "    print('不要这么急，小伙子，你还小，至少还要再等 %d 年'%(22-b))\n",
    "else:\n",
    "    print(\"不要这么急，小姑娘，你还小，至少还要再等 %d 年\"%(20-b)) "
   ]
  },
  {
   "cell_type": "code",
   "execution_count": 3,
   "metadata": {},
   "outputs": [
    {
     "ename": "SyntaxError",
     "evalue": "invalid character in identifier (<ipython-input-3-e0860086b3b4>, line 4)",
     "output_type": "error",
     "traceback": [
      "\u001b[1;36m  File \u001b[1;32m\"<ipython-input-3-e0860086b3b4>\"\u001b[1;36m, line \u001b[1;32m4\u001b[0m\n\u001b[1;33m    if （a==\"男\"）:\u001b[0m\n\u001b[1;37m        ^\u001b[0m\n\u001b[1;31mSyntaxError\u001b[0m\u001b[1;31m:\u001b[0m invalid character in identifier\n"
     ]
    }
   ],
   "source": [
    "#判断一个人是否达到结婚年龄\n",
    "a=input(\" 请输入性别 男/女\")\n",
    "b=int(input(\" 请输入年龄\")    \n",
    "if （a==\"男\"）:\n",
    "      print(\"祝贺你，可以结婚了\")\n",
    "#or (a ==\"女\"and b>=20):\n",
    "elif (a==\"男\"):\n",
    "    print('不要这么急，小伙子，你还小，至少还要再等 %d 年'%(22-age))\n",
    "else:\n",
    "    print(\"不要这么急，小姑娘，你还小，至少还要再等 %d 年\"%(20-age)) "
   ]
  },
  {
   "cell_type": "markdown",
   "metadata": {},
   "source": [
    "# 数据科学基础第二次作业\n",
    "201620701 刘昕雅"
   ]
  },
  {
   "cell_type": "markdown",
   "metadata": {},
   "source": [
    "# 猜数字"
   ]
  },
  {
   "cell_type": "code",
   "execution_count": 9,
   "metadata": {},
   "outputs": [
    {
     "name": "stdout",
     "output_type": "stream",
     "text": [
      "请您输入一个整数2\n",
      "您输入的数太小了\n",
      "输入一个较大的整数3\n",
      "恭喜您，猜对了\n"
     ]
    }
   ],
   "source": [
    "import random\n",
    "s = int(random.uniform(1,5))\n",
    "m = int(input(\"请您输入一个整数\"))\n",
    "while m != s:\n",
    "    if m>s:\n",
    "        print(\"您输入的数太大了\")\n",
    "        m= int(input(\"输入一个较小的整数\"))\n",
    "    else:\n",
    "        print(\"您输入的数太小了\")\n",
    "        m=int(input(\"输入一个较大的整数\"))\n",
    "print(\"恭喜您，猜对了\")"
   ]
  },
  {
   "cell_type": "markdown",
   "metadata": {},
   "source": [
    "# 判断身份证校验码"
   ]
  },
  {
   "cell_type": "code",
   "execution_count": 11,
   "metadata": {},
   "outputs": [
    {
     "name": "stdout",
     "output_type": "stream",
     "text": [
      "身份证号码335566198608140835\n",
      "校验码错误，正确的校验码应该为7\n"
     ]
    }
   ],
   "source": [
    "import numpy as np\n",
    "ID=input(\"身份证号码\")\n",
    "IDnumber=[]\n",
    "for i in range(17):\n",
    "    IDnumber.append(ID[i])\n",
    "checknumber=[7,9,10,5,8,4,2,1,6,3,7,9,10,5,8,4,2]  \n",
    "校验码=[1,0,\"X\",9,8,7,6,5,4,3,2]\n",
    "s=0\n",
    "for i in range(17):\n",
    "    s+=int(IDnumber[i])*checknumber[i]\n",
    "if str(校验码[s%11]).upper()==str(ID[-1]).upper():\n",
    "    print(\"校验码正确\")\n",
    "else:\n",
    "    print(\"校验码错误，正确的校验码应该为%s\" %校验码[s%11])"
   ]
  },
  {
   "cell_type": "markdown",
   "metadata": {},
   "source": [
    "# 数据科学基础第三次作业\n",
    "201620701 刘昕雅"
   ]
  },
  {
   "cell_type": "markdown",
   "metadata": {},
   "source": [
    "# 输出一个list包括2-1000内的质数"
   ]
  },
  {
   "cell_type": "code",
   "execution_count": 26,
   "metadata": {},
   "outputs": [
    {
     "name": "stdout",
     "output_type": "stream",
     "text": [
      "[1, 2, 3, 5, 7, 11, 13, 17, 19, 23, 29, 31, 37, 41, 43, 47, 53, 59, 61, 67, 71, 73, 79, 83, 89, 97, 101, 103, 107, 109, 113, 127, 131, 137, 139, 149, 151, 157, 163, 167, 173, 179, 181, 191, 193, 197, 199, 211, 223, 227, 229, 233, 239, 241, 251, 257, 263, 269, 271, 277, 281, 283, 293, 307, 311, 313, 317, 331, 337, 347, 349, 353, 359, 367, 373, 379, 383, 389, 397, 401, 409, 419, 421, 431, 433, 439, 443, 449, 457, 461, 463, 467, 479, 487, 491, 499, 503, 509, 521, 523, 541, 547, 557, 563, 569, 571, 577, 587, 593, 599, 601, 607, 613, 617, 619, 631, 641, 643, 647, 653, 659, 661, 673, 677, 683, 691, 701, 709, 719, 727, 733, 739, 743, 751, 757, 761, 769, 773, 787, 797, 809, 811, 821, 823, 827, 829, 839, 853, 857, 859, 863, 877, 881, 883, 887, 907, 911, 919, 929, 937, 941, 947, 953, 967, 971, 977, 983, 991, 997]\n"
     ]
    }
   ],
   "source": [
    "起点=1;\n",
    "终点=1000;\n",
    "odd=[]\n",
    "for num in range(起点,终点+1):\n",
    "    for i in range(2,num):\n",
    "        if num%i==0:\n",
    "            break\n",
    "    else:\n",
    "        odd.append(num)\n",
    "print(odd)"
   ]
  },
  {
   "cell_type": "code",
   "execution_count": null,
   "metadata": {},
   "outputs": [],
   "source": []
  },
  {
   "cell_type": "markdown",
   "metadata": {},
   "source": [
    "# 民事行为人"
   ]
  },
  {
   "cell_type": "markdown",
   "metadata": {},
   "source": [
    "10岁以下 无名氏行为 10-16 限制 16-18 如果有劳动 完全民事行为人"
   ]
  },
  {
   "cell_type": "code",
   "execution_count": 23,
   "metadata": {},
   "outputs": [
    {
     "name": "stdout",
     "output_type": "stream",
     "text": [
      "完全民事行为人\n"
     ]
    }
   ],
   "source": [
    "age=16;主要生活来源=\"自己的劳动收入\"\n",
    "if age<10:\n",
    "    print(\"无民事行为能力人\")\n",
    "elif 10<=age<16:\n",
    "    print (\" 限制民事行为人\")\n",
    "elif 16<=age<18:\n",
    "    if 主要生活来源==\"自己的劳动收入\":\n",
    "        print(\"完全民事行为人\")\n",
    "    else:\n",
    "        print(\"限制民事行为人\")\n",
    "else:\n",
    "    print(\"完全民事行为人\")\n"
   ]
  },
  {
   "cell_type": "code",
   "execution_count": null,
   "metadata": {},
   "outputs": [],
   "source": [
    "age=input(\"What is your age\")"
   ]
  },
  {
   "cell_type": "code",
   "execution_count": null,
   "metadata": {},
   "outputs": [],
   "source": [
    "living=input(\"Debendent on yourself(Yes or No)\")"
   ]
  },
  {
   "cell_type": "code",
   "execution_count": null,
   "metadata": {},
   "outputs": [],
   "source": [
    "age=input(\"What is your age\")\n",
    "age=int(age)\n",
    "living=input(\"Debendent on yourself(Yes or No)\")\n",
    "if age<10:\n",
    "    print(\"无民事行为能力人\")\n",
    "elif 10<=age<16:\n",
    "    print (\" 限制民事行为人\")\n",
    "elif 16<=age<18:\n",
    "    if living==\"Yes\":\n",
    "        print(\"完全民事行为人\")\n",
    "    else:\n",
    "        print(\"限制民事行为人\")\n",
    "else:\n",
    "    print(\"完全民事行为人\")"
   ]
  },
  {
   "cell_type": "markdown",
   "metadata": {},
   "source": [
    "# 尾号限行"
   ]
  },
  {
   "cell_type": "code",
   "execution_count": null,
   "metadata": {},
   "outputs": [],
   "source": [
    "车牌号=\"京A-1234\"\n",
    "尾号=int(车牌号[-1])\n",
    "if 尾号 in [0,1]:\n",
    "    print(\"周X运行\")"
   ]
  },
  {
   "cell_type": "markdown",
   "metadata": {},
   "source": [
    "# 复合运算"
   ]
  },
  {
   "cell_type": "code",
   "execution_count": 1,
   "metadata": {},
   "outputs": [
    {
     "name": "stdout",
     "output_type": "stream",
     "text": [
      "pigpigpig\n"
     ]
    }
   ],
   "source": [
    "a=0\n",
    "b=1\n",
    "if(a> 0) and (b/a>2):\n",
    "    print(\"xixixi\")\n",
    "else:\n",
    "    print(\"pigpigpig\")"
   ]
  },
  {
   "cell_type": "code",
   "execution_count": null,
   "metadata": {},
   "outputs": [],
   "source": [
    "a=0\n",
    "b=1\n",
    "if(a> 0) and (b/a>2):\n",
    "    print(\"xixixi\")\n",
    "else:\n",
    "    print(\"pigpigpig\")"
   ]
  },
  {
   "cell_type": "markdown",
   "metadata": {},
   "source": [
    "# 循环语句"
   ]
  },
  {
   "cell_type": "code",
   "execution_count": 3,
   "metadata": {},
   "outputs": [
    {
     "name": "stdout",
     "output_type": "stream",
     "text": [
      "The number is 0\n",
      "The number is 2\n",
      "The number end at 4\n"
     ]
    }
   ],
   "source": [
    "number=0\n",
    "while(number<3):\n",
    "    print(\"The number is\",number)\n",
    "    number+=2\n",
    "print(\"The number end at\",number)"
   ]
  },
  {
   "cell_type": "code",
   "execution_count": 14,
   "metadata": {},
   "outputs": [
    {
     "name": "stdout",
     "output_type": "stream",
     "text": [
      "1 0\n",
      "2 1\n",
      "3 3\n",
      "4 6\n",
      "4 <built-in function sum>\n"
     ]
    }
   ],
   "source": [
    "#求1-100的和\n",
    "n=0\n",
    "totalsum=0\n",
    "while n<=3:\n",
    "    totalsum+=n\n",
    "    n+=1\n",
    "    print(n,totalsum)\n",
    "print(n,sum)"
   ]
  },
  {
   "cell_type": "code",
   "execution_count": 13,
   "metadata": {},
   "outputs": [
    {
     "name": "stdout",
     "output_type": "stream",
     "text": [
      "我一直等你\n",
      "我一直等你\n",
      "我一直等你\n",
      "我不再等你了\n"
     ]
    }
   ],
   "source": [
    "活着=True\n",
    "年龄=int(0)\n",
    "while 活着 and (年龄<= 1E4 ):\n",
    "    print(\"我一直等你\")\n",
    "    年龄+=5E3\n",
    "print(\"我不再等你了\")"
   ]
  },
  {
   "cell_type": "code",
   "execution_count": 1,
   "metadata": {},
   "outputs": [
    {
     "data": {
      "text/plain": [
       "([37, 45, 97], [12, 64, 104])"
      ]
     },
     "execution_count": 1,
     "metadata": {},
     "output_type": "execute_result"
    }
   ],
   "source": [
    "表=[12,37,45,64,97,104]\n",
    "偶数=[]\n",
    "奇数=[]\n",
    "for i in 表:\n",
    "    if (i%2==0):\n",
    "        偶数.append(i)\n",
    "    else:\n",
    "        奇数.append(i)\n",
    "奇数,偶数"
   ]
  },
  {
   "cell_type": "code",
   "execution_count": 9,
   "metadata": {},
   "outputs": [
    {
     "name": "stdout",
     "output_type": "stream",
     "text": [
      " 偶数为 [104, 64, 12] \n",
      " 奇数为 [97, 45, 37] \n"
     ]
    }
   ],
   "source": [
    "表=[12,37,45,64,97,104]\n",
    "偶数=[]\n",
    "奇数=[]\n",
    "while len(表)>0:\n",
    "    number=表.pop()\n",
    "    if(number%2==0):\n",
    "         偶数.append(number)\n",
    "    else:\n",
    "        奇数.append(number)\n",
    "print(\" 偶数为 %s \" %偶数)\n",
    "print(\" 奇数为 %s \" %奇数)"
   ]
  },
  {
   "cell_type": "markdown",
   "metadata": {},
   "source": [
    "# break 和 continue"
   ]
  },
  {
   "cell_type": "code",
   "execution_count": 24,
   "metadata": {},
   "outputs": [
    {
     "name": "stdout",
     "output_type": "stream",
     "text": [
      "请输入数字：999\n",
      "您输入的数字为 999 ，现在序列更新为 ['999']\n",
      "请输入数字：555\n",
      "您输入的数字为 555 ，现在序列更新为 ['999', '555']\n"
     ]
    }
   ],
   "source": [
    "var=0\n",
    "number=[]\n",
    "while var==0:\n",
    "#input的所有结果为字符\n",
    "    num=input(\"请输入数字：\")\n",
    "    number.append(num)\n",
    "    print(\"您输入的数字为\",num,\"，现在序列更新为\",number)\n",
    "    if len(number)>=2:\n",
    "        break\n",
    "#用break来终止当前循环"
   ]
  },
  {
   "cell_type": "code",
   "execution_count": 27,
   "metadata": {},
   "outputs": [
    {
     "name": "stdout",
     "output_type": "stream",
     "text": [
      "等你一万年\n",
      "等你一万年\n",
      "花儿都谢了\n"
     ]
    }
   ],
   "source": [
    "活着=True\n",
    "年龄=int(0)\n",
    "while 活着:\n",
    "    print(\"等你一万年\")\n",
    "    年龄+=5E3\n",
    "    if 年龄>=1E4:\n",
    "        break\n",
    "print(\"花儿都谢了\")"
   ]
  },
  {
   "cell_type": "code",
   "execution_count": 28,
   "metadata": {},
   "outputs": [
    {
     "name": "stdout",
     "output_type": "stream",
     "text": [
      "13579"
     ]
    }
   ],
   "source": [
    "n=0\n",
    "while n<10:\n",
    "    n += 1\n",
    "    if n%2 ==0:\n",
    "        continue\n",
    "#跳过当前循环不执行后续循环\n",
    "    print(n,end=\"\")"
   ]
  },
  {
   "cell_type": "code",
   "execution_count": 34,
   "metadata": {},
   "outputs": [
    {
     "name": "stdout",
     "output_type": "stream",
     "text": [
      "花儿都谢了\n"
     ]
    }
   ],
   "source": [
    "活着=True\n",
    "年龄=int(0)\n",
    "while 活着&(年龄<=1E4):\n",
    "    年龄+=1\n",
    "    if 年龄 % 5E3 !=0:\n",
    "        continue  \n",
    "print(\"花儿都谢了\")"
   ]
  },
  {
   "cell_type": "markdown",
   "metadata": {},
   "source": [
    "# 猜数字"
   ]
  },
  {
   "cell_type": "code",
   "execution_count": null,
   "metadata": {},
   "outputs": [],
   "source": [
    "import random\n",
    "#这个从开头到结尾\n",
    "s = int(random.uniform(1,5))\n",
    "m = int(input(\"请您输入一个整数\"))\n",
    "if m>s:\n",
    "    print(\"您输入的数太大了\")\n",
    "    m= int(input(\"输入一个较小的整数\"))\n",
    "elif m<s:\n",
    "    print(\"您输入的数太小了\")\n",
    "    m=int(input(\"输入一个较大的整数\"))\n",
    "else:\n",
    "    print(\"恭喜您，猜对了\")"
   ]
  },
  {
   "cell_type": "code",
   "execution_count": 10,
   "metadata": {},
   "outputs": [
    {
     "name": "stdout",
     "output_type": "stream",
     "text": [
      "请您输入一个整数3\n",
      "您输入的数太小了\n",
      "输入一个较大的整数4\n",
      "恭喜您，猜对了\n"
     ]
    }
   ],
   "source": [
    "import random\n",
    "#这个从开头到结尾\n",
    "s = int(random.uniform(1,5))\n",
    "m = int(input(\"请您输入一个整数\"))\n",
    "while m != s:\n",
    "    if m>s:\n",
    "        print(\"您输入的数太大了\")\n",
    "        m= int(input(\"输入一个较小的整数\"))\n",
    "    else:\n",
    "        print(\"您输入的数太小了\")\n",
    "        m=int(input(\"输入一个较大的整数\"))\n",
    "print(\"恭喜您，猜对了\")"
   ]
  },
  {
   "cell_type": "markdown",
   "metadata": {},
   "source": [
    "# 石头剪刀布"
   ]
  },
  {
   "cell_type": "code",
   "execution_count": 3,
   "metadata": {},
   "outputs": [
    {
     "name": "stdout",
     "output_type": "stream",
     "text": [
      "输入“石头”，“剪刀”，“布”，输入“结束”结束游戏石头\n",
      "电脑出了：石头，平局\n",
      "输入“石头”，“剪刀”，“布”，输入“结束”结束游戏剪刀‘’\n",
      "输入错误，请重新输入！\n",
      "输入“石头”，“剪刀”，“布”，输入“结束”结束游戏结束\n",
      "\n",
      "游戏结束.\n"
     ]
    }
   ],
   "source": [
    "import random\n",
    "while True:\n",
    "    n=int(random.randint(1,3))\n",
    "    if n ==1:\n",
    "        c=\"石头\"\n",
    "    elif n==2:\n",
    "        c=\"剪刀\"\n",
    "    else:\n",
    "        c=\"布\"\n",
    "    me=input(\"输入“石头”，“剪刀”，“布”，输入“结束”结束游戏\")\n",
    "    choice=[\"石头\",\"剪刀\",\"布\"]\n",
    "    if (me not in choice) and (me !=\"结束\"):\n",
    "        print(\"输入错误，请重新输入！\")\n",
    "    elif (me not in choice) and (me==\"结束\"):\n",
    "        print(\"\\n游戏结束.\")\n",
    "        break\n",
    "    elif me==c:\n",
    "        print(\"电脑出了：\"+c+\"，平局\")\n",
    "    elif(me==\"石头\" & c ==\"剪刀\") | (me==\"剪刀\"& c==\"布\") | (me==\"布\"& c==\"石头\"):\n",
    "        print(\"电脑出了：\"+c+\",你赢了\")\n",
    "    else:\n",
    "        print(\"电脑出了：\"+c+\"，你输了\")\n",
    "        "
   ]
  },
  {
   "cell_type": "markdown",
   "metadata": {},
   "source": [
    "请输出 %5d  (%c)\n",
    "占五个字节"
   ]
  },
  {
   "cell_type": "markdown",
   "metadata": {},
   "source": [
    "# 2.For语句"
   ]
  },
  {
   "cell_type": "code",
   "execution_count": 1,
   "metadata": {},
   "outputs": [
    {
     "name": "stdout",
     "output_type": "stream",
     "text": [
      "10\n"
     ]
    }
   ],
   "source": [
    "#逐个赋值给变量，然后输出\n",
    "sum=0\n",
    "for x in range(5):\n",
    "    sum+=x\n",
    "print(sum)"
   ]
  },
  {
   "cell_type": "code",
   "execution_count": 5,
   "metadata": {},
   "outputs": [
    {
     "name": "stdout",
     "output_type": "stream",
     "text": [
      "一线城市:北\n",
      "一线城市:广\n",
      "一线城市:上\n",
      "一线城市:深\n"
     ]
    }
   ],
   "source": [
    "一线城市=[\"北\",\"广\",\"上\",\"深\"]\n",
    "for 城市 in 一线城市:\n",
    "    print(\"一线城市:\"+城市 )"
   ]
  },
  {
   "cell_type": "code",
   "execution_count": null,
   "metadata": {},
   "outputs": [],
   "source": [
    "一线城市=[\"北\",\"广\",\"上\",\"深\"]\n",
    "for 城市 in range(len(一线城市)):\n",
    "    print(\"一线城市:\"+一线城市[城市] )\n",
    "else:\n",
    "    print(\"\\n其他为二线或二线以下尘世\")"
   ]
  },
  {
   "cell_type": "markdown",
   "metadata": {},
   "source": [
    "# 身份证校验码"
   ]
  },
  {
   "cell_type": "code",
   "execution_count": 41,
   "metadata": {},
   "outputs": [
    {
     "name": "stdout",
     "output_type": "stream",
     "text": [
      "身份证号码53010219200508011x\n",
      "校验码正确\n"
     ]
    }
   ],
   "source": [
    "import numpy as np\n",
    "ID=input(\"身份证号码\")\n",
    "IDnumber=[]\n",
    "for i in range(17):\n",
    "    IDnumber.append(ID[i])\n",
    "checknumber=[7,9,10,5,8,4,2,1,6,3,7,9,10,5,8,4,2]  \n",
    "校验码=[1,0,\"X\",9,8,7,6,5,4,3,2]\n",
    "s=0\n",
    "for i in range(17):\n",
    "    s+=int(IDnumber[i])*checknumber[i]\n",
    "if str(校验码[s%11]).upper()==str(ID[-1]).upper():\n",
    "    print(\"校验码正确\")\n",
    "else:\n",
    "    print(\"校验码错误，正确的校验码应该为%s\" %校验码[s%11])\n"
   ]
  },
  {
   "cell_type": "markdown",
   "metadata": {},
   "source": [
    "# 2.3 循环嵌套"
   ]
  },
  {
   "cell_type": "code",
   "execution_count": 3,
   "metadata": {},
   "outputs": [
    {
     "name": "stdout",
     "output_type": "stream",
     "text": [
      "\n",
      "\n",
      "1 \n",
      "\n",
      "1 2 \n",
      "\n",
      "1 2 3 \n",
      "\n"
     ]
    }
   ],
   "source": [
    "#j是虚数单位\n",
    "#range到不了结果的位置\n",
    "maxnum=3\n",
    "for i in range(1,maxnum+2):\n",
    "    for k in range(1,i):\n",
    "        print(k,end=\" \")\n",
    "    print(\"\\n\")"
   ]
  },
  {
   "cell_type": "markdown",
   "metadata": {},
   "source": [
    "# 冒泡算法"
   ]
  },
  {
   "cell_type": "code",
   "execution_count": 4,
   "metadata": {},
   "outputs": [
    {
     "name": "stdout",
     "output_type": "stream",
     "text": [
      "0 0 [4, 3, 2, 1]\n",
      "1 0 [3, 4, 2, 1]\n",
      "1 1 [3, 4, 2, 1]\n",
      "2 0 [2, 4, 3, 1]\n",
      "2 1 [2, 3, 4, 1]\n",
      "2 2 [2, 3, 4, 1]\n",
      "3 0 [1, 3, 4, 2]\n",
      "3 1 [1, 2, 4, 3]\n",
      "3 2 [1, 2, 3, 4]\n",
      "3 3 [1, 2, 3, 4]\n"
     ]
    }
   ],
   "source": [
    "#冒泡算法 从小到大排列\n",
    "#i=0 1 2 3 \n",
    "#如果后面的元素比前面的元素小，就把两个元素对调\n",
    "arays=list(range(4,0,-1))\n",
    "for i in range(len(arays)):\n",
    "    for j in range(i+1):\n",
    "        if arays[i]<arays[j]:\n",
    "            arays[i],arays[j]=arays[j],arays[i]\n",
    "        print(i,j,arays)"
   ]
  },
  {
   "cell_type": "markdown",
   "metadata": {},
   "source": [
    "# 素数算法"
   ]
  },
  {
   "cell_type": "code",
   "execution_count": 20,
   "metadata": {},
   "outputs": [
    {
     "name": "stdout",
     "output_type": "stream",
     "text": [
      "11 是素数\n",
      "13 是素数\n"
     ]
    }
   ],
   "source": [
    "起点=10;\n",
    "终点=13;\n",
    "for num in range(起点,终点+1):\n",
    "    for i in range(2,num):\n",
    "        if num%i==0:\n",
    "            break\n",
    "    else:\n",
    "        print(num,\"是素数\")"
   ]
  },
  {
   "cell_type": "code",
   "execution_count": 25,
   "metadata": {},
   "outputs": [
    {
     "name": "stdout",
     "output_type": "stream",
     "text": [
      "[1, 2, 3, 5, 7, 11, 13, 17, 19, 23, 29, 31, 37, 41, 43, 47, 53, 59, 61, 67, 71, 73, 79, 83, 89, 97, 101, 103, 107, 109, 113, 127, 131, 137, 139, 149, 151, 157, 163, 167, 173, 179, 181, 191, 193, 197, 199, 211, 223, 227, 229, 233, 239, 241, 251, 257, 263, 269, 271, 277, 281, 283, 293, 307, 311, 313, 317, 331, 337, 347, 349, 353, 359, 367, 373, 379, 383, 389, 397, 401, 409, 419, 421, 431, 433, 439, 443, 449, 457, 461, 463, 467, 479, 487, 491, 499, 503, 509, 521, 523, 541, 547, 557, 563, 569, 571, 577, 587, 593, 599, 601, 607, 613, 617, 619, 631, 641, 643, 647, 653, 659, 661, 673, 677, 683, 691, 701, 709, 719, 727, 733, 739, 743, 751, 757, 761, 769, 773, 787, 797, 809, 811, 821, 823, 827, 829, 839, 853, 857, 859, 863, 877, 881, 883, 887, 907, 911, 919, 929, 937, 941, 947, 953, 967, 971, 977, 983, 991, 997]\n"
     ]
    }
   ],
   "source": [
    "起点=1;\n",
    "终点=1000;\n",
    "odd=[]\n",
    "for num in range(起点,终点+1):\n",
    "    for i in range(2,num):\n",
    "        if num%i==0:\n",
    "            break\n",
    "    else:\n",
    "        odd.append(num)\n",
    "print(odd)"
   ]
  },
  {
   "cell_type": "markdown",
   "metadata": {},
   "source": [
    "# 3.函数"
   ]
  },
  {
   "cell_type": "code",
   "execution_count": 29,
   "metadata": {},
   "outputs": [
    {
     "data": {
      "text/plain": [
       "False"
      ]
     },
     "execution_count": 29,
     "metadata": {},
     "output_type": "execute_result"
    }
   ],
   "source": [
    "#bool 布尔函数\n",
    "bool()"
   ]
  },
  {
   "cell_type": "code",
   "execution_count": 30,
   "metadata": {},
   "outputs": [
    {
     "data": {
      "text/plain": [
       "1"
      ]
     },
     "execution_count": 30,
     "metadata": {},
     "output_type": "execute_result"
    }
   ],
   "source": [
    "a=abs\n",
    "a(-1)"
   ]
  },
  {
   "cell_type": "markdown",
   "metadata": {},
   "source": [
    "# 自定义函数"
   ]
  },
  {
   "cell_type": "code",
   "execution_count": null,
   "metadata": {},
   "outputs": [],
   "source": [
    "\"\"\" 我是多行的注释\n",
    "1.用def 函数名（参数）\n",
    "2.函数\n",
    "3.函数要给返回值\n",
    "\"\"\""
   ]
  },
  {
   "cell_type": "code",
   "execution_count": 36,
   "metadata": {},
   "outputs": [
    {
     "data": {
      "text/plain": [
       "'his is so stupid'"
      ]
     },
     "execution_count": 36,
     "metadata": {},
     "output_type": "execute_result"
    }
   ],
   "source": [
    "def trim(s):\n",
    "#去除字符串收尾的空格\n",
    "    while s[0]==\" \":\n",
    "        s=s[1:]\n",
    "    while s[-1]==\" \":\n",
    "        s=s[:-1]\n",
    "    return s\n",
    "trim(\" his is so stupid    \")"
   ]
  },
  {
   "cell_type": "code",
   "execution_count": 10,
   "metadata": {},
   "outputs": [],
   "source": [
    "def plus(str1,str2):\n",
    "#这是两个字符串相加\n",
    "    total=str1+str2\n",
    "    return total"
   ]
  },
  {
   "cell_type": "code",
   "execution_count": 11,
   "metadata": {},
   "outputs": [
    {
     "data": {
      "text/plain": [
       "'科学数据'"
      ]
     },
     "execution_count": 11,
     "metadata": {},
     "output_type": "execute_result"
    }
   ],
   "source": [
    "#默认把第一个输入变量为函数的输入第一个变量\n",
    "str1=\"数据\"\n",
    "str2=\"科学\"\n",
    "plus(str2,str1)"
   ]
  },
  {
   "cell_type": "code",
   "execution_count": 14,
   "metadata": {},
   "outputs": [
    {
     "data": {
      "text/plain": [
       "'数据科学'"
      ]
     },
     "execution_count": 14,
     "metadata": {},
     "output_type": "execute_result"
    }
   ],
   "source": [
    "str2=\"科学\"\n",
    "str1=\"数据\"\n",
    "plus(str1,str2)"
   ]
  },
  {
   "cell_type": "code",
   "execution_count": 9,
   "metadata": {},
   "outputs": [
    {
     "data": {
      "text/plain": [
       "'statistical science'"
      ]
     },
     "execution_count": 9,
     "metadata": {},
     "output_type": "execute_result"
    }
   ],
   "source": [
    "#给函数中一个默认值\n",
    "def plus(str1,str2=\"science\"):\n",
    "    total=str1+str2\n",
    "    return total\n",
    "plus(\"statistical \")"
   ]
  },
  {
   "cell_type": "code",
   "execution_count": 16,
   "metadata": {},
   "outputs": [],
   "source": [
    "def name(名,姓=\"朱\"):\n",
    "    print(\"姓名：\",姓,名);\n",
    "    return;"
   ]
  },
  {
   "cell_type": "code",
   "execution_count": 17,
   "metadata": {},
   "outputs": [
    {
     "name": "stdout",
     "output_type": "stream",
     "text": [
      "姓名： 宋 江\n"
     ]
    }
   ],
   "source": [
    "name(姓=\"宋\",名=\"江\")"
   ]
  },
  {
   "cell_type": "code",
   "execution_count": 18,
   "metadata": {},
   "outputs": [
    {
     "name": "stdout",
     "output_type": "stream",
     "text": [
      "姓名： 朱 江\n"
     ]
    }
   ],
   "source": [
    "name(名=\"江\")"
   ]
  },
  {
   "cell_type": "code",
   "execution_count": 21,
   "metadata": {},
   "outputs": [
    {
     "name": "stdout",
     "output_type": "stream",
     "text": [
      "姓名： 朱 名\n"
     ]
    }
   ],
   "source": [
    "name(名=\"名\",姓=\"朱\")"
   ]
  },
  {
   "cell_type": "code",
   "execution_count": 26,
   "metadata": {},
   "outputs": [
    {
     "data": {
      "text/plain": [
       "9"
      ]
     },
     "execution_count": 26,
     "metadata": {},
     "output_type": "execute_result"
    }
   ],
   "source": [
    "def abss(x):\n",
    "    if x>0:\n",
    "        x=x\n",
    "    else:\n",
    "        x=-x\n",
    "    return x\n",
    "abss(x=9)"
   ]
  },
  {
   "cell_type": "markdown",
   "metadata": {},
   "source": [
    "# 反转函数"
   ]
  },
  {
   "cell_type": "code",
   "execution_count": 3,
   "metadata": {},
   "outputs": [
    {
     "data": {
      "text/plain": [
       "[3, 2, 1]"
      ]
     },
     "execution_count": 3,
     "metadata": {},
     "output_type": "execute_result"
    }
   ],
   "source": [
    "def reverse(listt):\n",
    "    for i in range(int(len(listt)/2)):\n",
    "        listt[i],listt[-i-1]=listt[-i-1],listt[i]\n",
    "    return listt\n",
    "listt=[1,2,3]\n",
    "reverse(listt)"
   ]
  },
  {
   "cell_type": "code",
   "execution_count": 7,
   "metadata": {},
   "outputs": [
    {
     "ename": "NameError",
     "evalue": "name 'a' is not defined",
     "output_type": "error",
     "traceback": [
      "\u001b[1;31m---------------------------------------------------------------------------\u001b[0m",
      "\u001b[1;31mNameError\u001b[0m                                 Traceback (most recent call last)",
      "\u001b[1;32m<ipython-input-7-8e2229fe450c>\u001b[0m in \u001b[0;36m<module>\u001b[1;34m\u001b[0m\n\u001b[0;32m      1\u001b[0m \u001b[1;32mdef\u001b[0m \u001b[0mreverse\u001b[0m\u001b[1;33m(\u001b[0m\u001b[0mlistt\u001b[0m\u001b[1;33m)\u001b[0m\u001b[1;33m:\u001b[0m\u001b[1;33m\u001b[0m\u001b[1;33m\u001b[0m\u001b[0m\n\u001b[0;32m      2\u001b[0m     \u001b[0ma\u001b[0m\u001b[1;33m=\u001b[0m\u001b[0mlen\u001b[0m\u001b[1;33m(\u001b[0m\u001b[0mlist\u001b[0m\u001b[1;33m)\u001b[0m\u001b[1;33m/\u001b[0m\u001b[1;36m2\u001b[0m\u001b[1;33m\u001b[0m\u001b[1;33m\u001b[0m\u001b[0m\n\u001b[1;32m----> 3\u001b[1;33m \u001b[0mprint\u001b[0m\u001b[1;33m(\u001b[0m\u001b[0ma\u001b[0m\u001b[1;33m)\u001b[0m\u001b[1;33m\u001b[0m\u001b[1;33m\u001b[0m\u001b[0m\n\u001b[0m",
      "\u001b[1;31mNameError\u001b[0m: name 'a' is not defined"
     ]
    }
   ],
   "source": [
    "def reverse(listt):\n",
    "    a=len(list)/2\n",
    "    \n",
    "print(a)"
   ]
  },
  {
   "cell_type": "markdown",
   "metadata": {},
   "source": [
    "# 匿名函数\n"
   ]
  },
  {
   "cell_type": "code",
   "execution_count": 53,
   "metadata": {},
   "outputs": [],
   "source": [
    "lambda x:x*x;"
   ]
  },
  {
   "cell_type": "code",
   "execution_count": 54,
   "metadata": {},
   "outputs": [],
   "source": [
    "lambda x,y:x+y;\n"
   ]
  },
  {
   "cell_type": "code",
   "execution_count": 4,
   "metadata": {},
   "outputs": [
    {
     "data": {
      "text/plain": [
       "<map at 0x27f628ea358>"
      ]
     },
     "execution_count": 4,
     "metadata": {},
     "output_type": "execute_result"
    }
   ],
   "source": [
    "map(lambda x: x*x,[1,4,9])"
   ]
  },
  {
   "cell_type": "code",
   "execution_count": 3,
   "metadata": {},
   "outputs": [
    {
     "data": {
      "text/plain": [
       "[1, 16, 81]"
      ]
     },
     "execution_count": 3,
     "metadata": {},
     "output_type": "execute_result"
    }
   ],
   "source": [
    "list(map(lambda x: x*x,[1,4,9]))"
   ]
  },
  {
   "cell_type": "code",
   "execution_count": 2,
   "metadata": {},
   "outputs": [
    {
     "data": {
      "text/plain": [
       "[3, 9, 17]"
      ]
     },
     "execution_count": 2,
     "metadata": {},
     "output_type": "execute_result"
    }
   ],
   "source": [
    "list(map(lambda x,y: x+y,[1,4,9],[2,5,8]))"
   ]
  },
  {
   "cell_type": "code",
   "execution_count": 1,
   "metadata": {},
   "outputs": [
    {
     "data": {
      "text/plain": [
       "list"
      ]
     },
     "execution_count": 1,
     "metadata": {},
     "output_type": "execute_result"
    }
   ],
   "source": [
    "list"
   ]
  },
  {
   "cell_type": "code",
   "execution_count": 5,
   "metadata": {},
   "outputs": [],
   "source": [
    "square= map(lambda x: x*x,[1,4,9])"
   ]
  },
  {
   "cell_type": "code",
   "execution_count": 1,
   "metadata": {},
   "outputs": [],
   "source": [
    "\n",
    "NumRows=4;\n",
    "df=pd.DataFrame({\"A\":pd.date_range(\"20181101\",periods=NumRows),\n",
    "                 \"B\":pd.Series(range(NumRows),dtype=\"float\"),\n",
    "                 \"C\":np.array(3,dtype=\"int32\"),\n",
    "                 \"D\":pd.Categorical([\"测试\",\"训练\",\"测试\",\"训练\"]),\n",
    "                 \"E\":\"foo\"},\n",
    "                 index=list(range(NumRows)))"
   ]
  },
  {
   "cell_type": "code",
   "execution_count": null,
   "metadata": {},
   "outputs": [],
   "source": []
  }
 ],
 "metadata": {
  "kernelspec": {
   "display_name": "Python 3",
   "language": "python",
   "name": "python3"
  },
  "language_info": {
   "codemirror_mode": {
    "name": "ipython",
    "version": 3
   },
   "file_extension": ".py",
   "mimetype": "text/x-python",
   "name": "python",
   "nbconvert_exporter": "python",
   "pygments_lexer": "ipython3",
   "version": "3.7.3"
  }
 },
 "nbformat": 4,
 "nbformat_minor": 2
}
