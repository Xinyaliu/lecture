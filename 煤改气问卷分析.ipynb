{
 "cells": [
  {
   "cell_type": "code",
   "execution_count": 30,
   "metadata": {},
   "outputs": [],
   "source": [
    "import pandas as pd\n",
    "import numpy as np\n",
    "import matplotlib\n",
    "import matplotlib.pyplot as plt\n",
    "plt.rcParams[\"font.sans-serif\"]=\"SimHei\"\n",
    "plt.rcParams[\"axes.unicode_minus\"]=False"
   ]
  },
  {
   "cell_type": "code",
   "execution_count": 31,
   "metadata": {},
   "outputs": [],
   "source": [
    "dm=pd.read_excel(\"awsl.xls\",encoding = 'GB2312')"
   ]
  },
  {
   "cell_type": "code",
   "execution_count": 32,
   "metadata": {},
   "outputs": [],
   "source": [
    "dm1=dm[dm.city==1]\n",
    "dm2=dm[dm.city==2 ]\n",
    "dm3=dm[dm.city==3 ]"
   ]
  },
  {
   "cell_type": "code",
   "execution_count": 33,
   "metadata": {},
   "outputs": [],
   "source": [
    "dm1_=dm1[dm1.lu2016.notna()]\n",
    "dm2_=dm2[dm2.lu2016.notna()]\n",
    "dm3_=dm3[dm3.lu2016.notna()]"
   ]
  },
  {
   "cell_type": "code",
   "execution_count": 34,
   "metadata": {},
   "outputs": [],
   "source": [
    "lt=np.sum(dm1_.lt2017)-np.sum(dm1_.lt2016)\n",
    "lq=np.sum(dm1_.Q)\n",
    "ls=np.sum(dm1_.ls2016)"
   ]
  },
  {
   "cell_type": "code",
   "execution_count": 37,
   "metadata": {},
   "outputs": [
    {
     "data": {
      "text/plain": [
       "-1110.449854943087"
      ]
     },
     "execution_count": 37,
     "metadata": {},
     "output_type": "execute_result"
    }
   ],
   "source": [
    "a=0.2963\n",
    "b=-0.7032\n",
    "n=len(dm1_.Q)\n",
    "p=2.4\n",
    "m=(lt*a/b-lq-ls)/n\n",
    "import math\n",
    "x=p-math.exp(m)\n",
    "m"
   ]
  },
  {
   "cell_type": "code",
   "execution_count": 31,
   "metadata": {},
   "outputs": [
    {
     "data": {
      "text/plain": [
       "1.4818897945714726"
      ]
     },
     "execution_count": 31,
     "metadata": {},
     "output_type": "execute_result"
    }
   ],
   "source": [
    "c=3.86\n",
    "n=len(dm2_.Q)\n",
    "pxn=np.exp(-(a*np.sum(dm2_.lt2017)+n*c)/b)/np.prod(dm2_.Q)\n",
    "px=pxn**(1/n)\n",
    "px"
   ]
  },
  {
   "cell_type": "code",
   "execution_count": null,
   "metadata": {},
   "outputs": [],
   "source": []
  }
 ],
 "metadata": {
  "kernelspec": {
   "display_name": "Python 3",
   "language": "python",
   "name": "python3"
  },
  "language_info": {
   "codemirror_mode": {
    "name": "ipython",
    "version": 3
   },
   "file_extension": ".py",
   "mimetype": "text/x-python",
   "name": "python",
   "nbconvert_exporter": "python",
   "pygments_lexer": "ipython3",
   "version": "3.7.3"
  }
 },
 "nbformat": 4,
 "nbformat_minor": 2
}
