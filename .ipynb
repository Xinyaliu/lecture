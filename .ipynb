{
 "cells": [
  {
   "cell_type": "markdown",
   "metadata": {},
   "source": [
    "# 数据科学基础第十章作业"
   ]
  },
  {
   "cell_type": "markdown",
   "metadata": {},
   "source": [
    "刘昕雅 2016200701"
   ]
  },
  {
   "cell_type": "code",
   "execution_count": 112,
   "metadata": {},
   "outputs": [],
   "source": [
    "import numpy as np\n",
    "import pandas as pd\n",
    "import matplotlib.pyplot as plt\n",
    "import scipy.stats as stats\n",
    "import random "
   ]
  },
  {
   "cell_type": "markdown",
   "metadata": {},
   "source": [
    "# 1.父母身高和子女身高是否存在联系"
   ]
  },
  {
   "cell_type": "raw",
   "metadata": {},
   "source": [
    "原假设：父母身高大于180cm的子女身高分布和总样本没有显著差异，\n",
    "        即父母身高和子女身高不存在联系\n",
    "备择假设：父母身高大于180cm的子女身高分布和总样本存在显著差异，\n",
    "        即父母身高和子女身高存在联系\n",
    "检验统计量：不同父母身高下的子女身高分布是否相同"
   ]
  },
  {
   "cell_type": "code",
   "execution_count": 3,
   "metadata": {},
   "outputs": [
    {
     "data": {
      "text/html": [
       "<div>\n",
       "<style scoped>\n",
       "    .dataframe tbody tr th:only-of-type {\n",
       "        vertical-align: middle;\n",
       "    }\n",
       "\n",
       "    .dataframe tbody tr th {\n",
       "        vertical-align: top;\n",
       "    }\n",
       "\n",
       "    .dataframe thead th {\n",
       "        text-align: right;\n",
       "    }\n",
       "</style>\n",
       "<table border=\"1\" class=\"dataframe\">\n",
       "  <thead>\n",
       "    <tr style=\"text-align: right;\">\n",
       "      <th></th>\n",
       "      <th>father</th>\n",
       "      <th>mother</th>\n",
       "      <th>midparentHeight</th>\n",
       "      <th>children</th>\n",
       "      <th>childNum</th>\n",
       "      <th>childHeight</th>\n",
       "      <th>ch</th>\n",
       "      <th>ph</th>\n",
       "    </tr>\n",
       "  </thead>\n",
       "  <tbody>\n",
       "    <tr>\n",
       "      <th>count</th>\n",
       "      <td>934.000000</td>\n",
       "      <td>934.000000</td>\n",
       "      <td>934.000000</td>\n",
       "      <td>934.000000</td>\n",
       "      <td>934.000000</td>\n",
       "      <td>934.000000</td>\n",
       "      <td>934.000000</td>\n",
       "      <td>934.000000</td>\n",
       "    </tr>\n",
       "    <tr>\n",
       "      <th>mean</th>\n",
       "      <td>69.197109</td>\n",
       "      <td>64.089293</td>\n",
       "      <td>69.206773</td>\n",
       "      <td>6.171306</td>\n",
       "      <td>3.585653</td>\n",
       "      <td>66.745931</td>\n",
       "      <td>169.534666</td>\n",
       "      <td>175.785203</td>\n",
       "    </tr>\n",
       "    <tr>\n",
       "      <th>std</th>\n",
       "      <td>2.476479</td>\n",
       "      <td>2.290886</td>\n",
       "      <td>1.802370</td>\n",
       "      <td>2.729025</td>\n",
       "      <td>2.361410</td>\n",
       "      <td>3.579251</td>\n",
       "      <td>9.091298</td>\n",
       "      <td>4.578020</td>\n",
       "    </tr>\n",
       "    <tr>\n",
       "      <th>min</th>\n",
       "      <td>62.000000</td>\n",
       "      <td>58.000000</td>\n",
       "      <td>64.400000</td>\n",
       "      <td>1.000000</td>\n",
       "      <td>1.000000</td>\n",
       "      <td>56.000000</td>\n",
       "      <td>142.240000</td>\n",
       "      <td>163.576000</td>\n",
       "    </tr>\n",
       "    <tr>\n",
       "      <th>25%</th>\n",
       "      <td>68.000000</td>\n",
       "      <td>63.000000</td>\n",
       "      <td>68.140000</td>\n",
       "      <td>4.000000</td>\n",
       "      <td>2.000000</td>\n",
       "      <td>64.000000</td>\n",
       "      <td>162.560000</td>\n",
       "      <td>173.075600</td>\n",
       "    </tr>\n",
       "    <tr>\n",
       "      <th>50%</th>\n",
       "      <td>69.000000</td>\n",
       "      <td>64.000000</td>\n",
       "      <td>69.248000</td>\n",
       "      <td>6.000000</td>\n",
       "      <td>3.000000</td>\n",
       "      <td>66.500000</td>\n",
       "      <td>168.910000</td>\n",
       "      <td>175.889920</td>\n",
       "    </tr>\n",
       "    <tr>\n",
       "      <th>75%</th>\n",
       "      <td>71.000000</td>\n",
       "      <td>65.875000</td>\n",
       "      <td>70.140000</td>\n",
       "      <td>8.000000</td>\n",
       "      <td>5.000000</td>\n",
       "      <td>69.700000</td>\n",
       "      <td>177.038000</td>\n",
       "      <td>178.155600</td>\n",
       "    </tr>\n",
       "    <tr>\n",
       "      <th>max</th>\n",
       "      <td>78.500000</td>\n",
       "      <td>70.500000</td>\n",
       "      <td>75.430000</td>\n",
       "      <td>15.000000</td>\n",
       "      <td>15.000000</td>\n",
       "      <td>79.000000</td>\n",
       "      <td>200.660000</td>\n",
       "      <td>191.592200</td>\n",
       "    </tr>\n",
       "  </tbody>\n",
       "</table>\n",
       "</div>"
      ],
      "text/plain": [
       "           father      mother  midparentHeight    children    childNum  \\\n",
       "count  934.000000  934.000000       934.000000  934.000000  934.000000   \n",
       "mean    69.197109   64.089293        69.206773    6.171306    3.585653   \n",
       "std      2.476479    2.290886         1.802370    2.729025    2.361410   \n",
       "min     62.000000   58.000000        64.400000    1.000000    1.000000   \n",
       "25%     68.000000   63.000000        68.140000    4.000000    2.000000   \n",
       "50%     69.000000   64.000000        69.248000    6.000000    3.000000   \n",
       "75%     71.000000   65.875000        70.140000    8.000000    5.000000   \n",
       "max     78.500000   70.500000        75.430000   15.000000   15.000000   \n",
       "\n",
       "       childHeight          ch          ph  \n",
       "count   934.000000  934.000000  934.000000  \n",
       "mean     66.745931  169.534666  175.785203  \n",
       "std       3.579251    9.091298    4.578020  \n",
       "min      56.000000  142.240000  163.576000  \n",
       "25%      64.000000  162.560000  173.075600  \n",
       "50%      66.500000  168.910000  175.889920  \n",
       "75%      69.700000  177.038000  178.155600  \n",
       "max      79.000000  200.660000  191.592200  "
      ]
     },
     "execution_count": 3,
     "metadata": {},
     "output_type": "execute_result"
    }
   ],
   "source": [
    "# 导入数据\n",
    "gg=pd.read_csv(\"GaltonFamilies.csv\")\n",
    "#将身高转化为厘米\n",
    "gg[\"ch\"]=gg[\"childHeight\"]*2.54\n",
    "gg[\"ph\"]=gg[\"midparentHeight\"]*2.54\n",
    "gg.describe()"
   ]
  },
  {
   "cell_type": "raw",
   "metadata": {},
   "source": [
    "将子女身高ch分为141-151，151-161，161-171，171-181，181-191，190-201\n",
    "统计所有样本中子女身高的频率f1和父母身高大于180cm的子女各阶段身高频率"
   ]
  },
  {
   "cell_type": "code",
   "execution_count": 37,
   "metadata": {},
   "outputs": [
    {
     "data": {
      "text/plain": [
       "(141, 151]      6\n",
       "(151, 161]    176\n",
       "(161, 171]    349\n",
       "(171, 181]    307\n",
       "(181, 191]     92\n",
       "(191, 201]      4\n",
       "dtype: int64"
      ]
     },
     "execution_count": 37,
     "metadata": {},
     "output_type": "execute_result"
    }
   ],
   "source": [
    "#总样本\n",
    "ch1=list(gg.ch)\n",
    "bins=[141,151,161,171,181,191,201]\n",
    "ch_total=pd.cut(ch1,bins)\n",
    "ch_total.value_counts()"
   ]
  },
  {
   "cell_type": "code",
   "execution_count": 55,
   "metadata": {},
   "outputs": [
    {
     "data": {
      "text/plain": [
       "(141, 151]     0\n",
       "(151, 161]     8\n",
       "(161, 171]    55\n",
       "(171, 181]    53\n",
       "(181, 191]    30\n",
       "(191, 201]     3\n",
       "dtype: int64"
      ]
     },
     "execution_count": 55,
     "metadata": {},
     "output_type": "execute_result"
    }
   ],
   "source": [
    "#父母平均身高大于180的样本\n",
    "ch_p=list(gg[gg.ph>180].ch)\n",
    "bins=[141,151,161,171,181,191,201]\n",
    "ch_part=pd.cut(ch_p,bins)\n",
    "ch_part.value_counts()"
   ]
  },
  {
   "cell_type": "code",
   "execution_count": 39,
   "metadata": {},
   "outputs": [
    {
     "data": {
      "text/html": [
       "<div>\n",
       "<style scoped>\n",
       "    .dataframe tbody tr th:only-of-type {\n",
       "        vertical-align: middle;\n",
       "    }\n",
       "\n",
       "    .dataframe tbody tr th {\n",
       "        vertical-align: top;\n",
       "    }\n",
       "\n",
       "    .dataframe thead th {\n",
       "        text-align: right;\n",
       "    }\n",
       "</style>\n",
       "<table border=\"1\" class=\"dataframe\">\n",
       "  <thead>\n",
       "    <tr style=\"text-align: right;\">\n",
       "      <th></th>\n",
       "      <th>height</th>\n",
       "      <th>ch_total</th>\n",
       "      <th>ch_part</th>\n",
       "    </tr>\n",
       "  </thead>\n",
       "  <tbody>\n",
       "    <tr>\n",
       "      <th>0</th>\n",
       "      <td>141-151</td>\n",
       "      <td>0.006363</td>\n",
       "      <td>0.000000</td>\n",
       "    </tr>\n",
       "    <tr>\n",
       "      <th>1</th>\n",
       "      <td>151-161</td>\n",
       "      <td>0.186638</td>\n",
       "      <td>0.053691</td>\n",
       "    </tr>\n",
       "    <tr>\n",
       "      <th>2</th>\n",
       "      <td>161-171</td>\n",
       "      <td>0.370095</td>\n",
       "      <td>0.369128</td>\n",
       "    </tr>\n",
       "    <tr>\n",
       "      <th>3</th>\n",
       "      <td>171-181</td>\n",
       "      <td>0.325557</td>\n",
       "      <td>0.355705</td>\n",
       "    </tr>\n",
       "    <tr>\n",
       "      <th>4</th>\n",
       "      <td>181-191</td>\n",
       "      <td>0.097561</td>\n",
       "      <td>0.201342</td>\n",
       "    </tr>\n",
       "    <tr>\n",
       "      <th>5</th>\n",
       "      <td>191-201</td>\n",
       "      <td>0.004242</td>\n",
       "      <td>0.020134</td>\n",
       "    </tr>\n",
       "  </tbody>\n",
       "</table>\n",
       "</div>"
      ],
      "text/plain": [
       "    height  ch_total   ch_part\n",
       "0  141-151  0.006363  0.000000\n",
       "1  151-161  0.186638  0.053691\n",
       "2  161-171  0.370095  0.369128\n",
       "3  171-181  0.325557  0.355705\n",
       "4  181-191  0.097561  0.201342\n",
       "5  191-201  0.004242  0.020134"
      ]
     },
     "execution_count": 39,
     "metadata": {},
     "output_type": "execute_result"
    }
   ],
   "source": [
    "#构成dataframne\n",
    "ch=pd.DataFrame({\"height\":[\"141-151\",\"151-161\",\"161-171\",\n",
    "                           \"171-181\",\"181-191\",\"191-201\"],\n",
    "                   \"ch_total\":[6,176,349,307,92,4],\n",
    "                  \"ch_part\":[0,8,55,53,30,3]},\n",
    "                 columns=[\"height\",\"ch_total\",\"ch_part\"])\n",
    "ch.ch_total=ch.ch_total/943\n",
    "ch.ch_part=ch.ch_part/sum(ch.ch_part)\n",
    "ch"
   ]
  },
  {
   "cell_type": "code",
   "execution_count": 43,
   "metadata": {},
   "outputs": [
    {
     "data": {
      "image/png": "[encoded data removed]",
      "text/plain": [
       "<Figure size 432x288 with 1 Axes>"
      ]
     },
     "metadata": {
      "needs_background": "light"
     },
     "output_type": "display_data"
    }
   ],
   "source": [
    "#绘制pin概率差距图\n",
    "x=np.arange(6)+1\n",
    "width=0.35\n",
    "plt.bar(x-0.5*width,ch.ch_total,width=width,facecolor=\"lightskyblue\",edgecolor=\"white\")\n",
    "plt.bar(x+0.5*width,ch.ch_part,width=width,facecolor=\"yellowgreen\",edgecolor=\"white\")\n",
    "plt.xticks(x,ch.height)\n",
    "plt.legend([\"Total\",\"Part\"])\n",
    "plt.show()"
   ]
  },
  {
   "cell_type": "raw",
   "metadata": {},
   "source": [
    "可以看出父母身高较高情况下，子女身高矮的频率更低，子女身高高的频率更高。"
   ]
  },
  {
   "cell_type": "code",
   "execution_count": 45,
   "metadata": {},
   "outputs": [
    {
     "data": {
      "text/plain": [
       "0.1450497128256955"
      ]
     },
     "execution_count": 45,
     "metadata": {},
     "output_type": "execute_result"
    }
   ],
   "source": [
    "#计算变异系数\n",
    "#定义求变异距离的函数\n",
    "def total_variation_distance(distribution_1,distribution_2):\n",
    "    return np.abs(distribution_1-distribution_2).sum()/2\n",
    "def table_tvd(table,label1,label2):\n",
    "    return total_variation_distance(table[label1],table[label2])\n",
    "table_tvd(ch,\"ch_total\",\"ch_part\")"
   ]
  },
  {
   "cell_type": "code",
   "execution_count": 46,
   "metadata": {},
   "outputs": [],
   "source": [
    "#从总样本随机抽样sum(ch.ch_part)个，观察总样本中随机抽样情况，\n",
    "import random\n",
    "#随机抽样函数\n",
    "def randomPick(some_list,probabilities):\n",
    "    \"以制定的概率从列表中随机获取元素probabilitiess list\"\n",
    "    x=random.uniform(0,1)\n",
    "    cumulativeProbability = 0.0\n",
    "    #链接变量的循环范围\n",
    "    for item, iterProbability in zip(some_list,probabilities):\n",
    "        cumulativeProbability +=iterProbability\n",
    "        if x< cumulativeProbability:\n",
    "            break\n",
    "    return item\n",
    "def proportions_from_distribution(table,element_label,probability_label,size):\n",
    "    #有放回抽样\n",
    "    n=0\n",
    "    randomSample=[]\n",
    "    while n<size:\n",
    "        randomSample.append(randomPick(table[element_label],table[probability_label]))\n",
    "        n+=1\n",
    "    return randomSample"
   ]
  },
  {
   "cell_type": "code",
   "execution_count": 57,
   "metadata": {},
   "outputs": [
    {
     "data": {
      "text/plain": [
       "(array(['141-151', '151-161', '161-171', '171-181', '181-191', '191-201'],\n",
       "       dtype='<U7'),\n",
       " array([0.00671141, 0.18791946, 0.36241611, 0.31543624, 0.11409396,\n",
       "        0.01342282]))"
      ]
     },
     "execution_count": 57,
     "metadata": {},
     "output_type": "execute_result"
    }
   ],
   "source": [
    "size=149\n",
    "randomSample=proportions_from_distribution(ch,\"height\",\"ch_total\",size)\n",
    "#用np.unique进行总结\n",
    "value,sampleProportion=np.unique(randomSample,return_counts=True)\n",
    "value,np.divide(sampleProportion,size)"
   ]
  },
  {
   "cell_type": "code",
   "execution_count": 58,
   "metadata": {},
   "outputs": [
    {
     "data": {
      "text/html": [
       "<div>\n",
       "<style scoped>\n",
       "    .dataframe tbody tr th:only-of-type {\n",
       "        vertical-align: middle;\n",
       "    }\n",
       "\n",
       "    .dataframe tbody tr th {\n",
       "        vertical-align: top;\n",
       "    }\n",
       "\n",
       "    .dataframe thead th {\n",
       "        text-align: right;\n",
       "    }\n",
       "</style>\n",
       "<table border=\"1\" class=\"dataframe\">\n",
       "  <thead>\n",
       "    <tr style=\"text-align: right;\">\n",
       "      <th></th>\n",
       "      <th>height</th>\n",
       "      <th>ch_total</th>\n",
       "      <th>ch_part</th>\n",
       "      <th>Random</th>\n",
       "    </tr>\n",
       "  </thead>\n",
       "  <tbody>\n",
       "    <tr>\n",
       "      <th>0</th>\n",
       "      <td>141-151</td>\n",
       "      <td>0.006363</td>\n",
       "      <td>0.000000</td>\n",
       "      <td>0.006711</td>\n",
       "    </tr>\n",
       "    <tr>\n",
       "      <th>1</th>\n",
       "      <td>151-161</td>\n",
       "      <td>0.186638</td>\n",
       "      <td>0.053691</td>\n",
       "      <td>0.187919</td>\n",
       "    </tr>\n",
       "    <tr>\n",
       "      <th>2</th>\n",
       "      <td>161-171</td>\n",
       "      <td>0.370095</td>\n",
       "      <td>0.369128</td>\n",
       "      <td>0.362416</td>\n",
       "    </tr>\n",
       "    <tr>\n",
       "      <th>3</th>\n",
       "      <td>171-181</td>\n",
       "      <td>0.325557</td>\n",
       "      <td>0.355705</td>\n",
       "      <td>0.315436</td>\n",
       "    </tr>\n",
       "    <tr>\n",
       "      <th>4</th>\n",
       "      <td>181-191</td>\n",
       "      <td>0.097561</td>\n",
       "      <td>0.201342</td>\n",
       "      <td>0.114094</td>\n",
       "    </tr>\n",
       "    <tr>\n",
       "      <th>5</th>\n",
       "      <td>191-201</td>\n",
       "      <td>0.004242</td>\n",
       "      <td>0.020134</td>\n",
       "      <td>0.013423</td>\n",
       "    </tr>\n",
       "  </tbody>\n",
       "</table>\n",
       "</div>"
      ],
      "text/plain": [
       "    height  ch_total   ch_part    Random\n",
       "0  141-151  0.006363  0.000000  0.006711\n",
       "1  151-161  0.186638  0.053691  0.187919\n",
       "2  161-171  0.370095  0.369128  0.362416\n",
       "3  171-181  0.325557  0.355705  0.315436\n",
       "4  181-191  0.097561  0.201342  0.114094\n",
       "5  191-201  0.004242  0.020134  0.013423"
      ]
     },
     "execution_count": 58,
     "metadata": {},
     "output_type": "execute_result"
    }
   ],
   "source": [
    "ch[\"Random\"]=np.divide(sampleProportion,size)\n",
    "ch"
   ]
  },
  {
   "cell_type": "code",
   "execution_count": 61,
   "metadata": {},
   "outputs": [
    {
     "data": {
      "image/png": "[encoded data removed]",
      "text/plain": [
       "<Figure size 432x288 with 1 Axes>"
      ]
     },
     "metadata": {
      "needs_background": "light"
     },
     "output_type": "display_data"
    }
   ],
   "source": [
    "#绘制\n",
    "x=np.arange(6)+1\n",
    "width=0.25\n",
    "plt.bar(x-width,ch.ch_total,width=width,facecolor=\"lightskyblue\",edgecolor=\"white\")\n",
    "plt.bar(x+0*width,ch.ch_part,width=width,facecolor=\"yellowgreen\",edgecolor=\"white\")\n",
    "plt.bar(x+1*width,ch.Random,width=width,facecolor=\"pink\",edgecolor=\"white\")\n",
    "#设置名称\n",
    "plt.xticks(x,ch.height)\n",
    "plt.legend([\"total\",\"part\",\"random\"])\n",
    "plt.show()"
   ]
  },
  {
   "cell_type": "code",
   "execution_count": null,
   "metadata": {},
   "outputs": [],
   "source": [
    "可以看出随机抽样的身高分布和总样本身高分布差距不大，\n",
    "但和父母身高高于180的子女身高分布差距很大"
   ]
  },
  {
   "cell_type": "code",
   "execution_count": 94,
   "metadata": {},
   "outputs": [],
   "source": [
    "size=193\n",
    "tvds=[]\n",
    "repetitions=500\n",
    "for i in np.arange(repetitions):\n",
    "    randomSample=proportions_from_distribution(ch,\"height\",\"ch_total\",size)\n",
    "    value,sampleProportion=np.unique(randomSample,return_counts=True )\n",
    "    tvds=np.append(tvds,np.sum(np.abs(np.divide(sampleProportion,size)-ch[\"ch_total\"])/2))"
   ]
  },
  {
   "cell_type": "code",
   "execution_count": 105,
   "metadata": {},
   "outputs": [
    {
     "data": {
      "image/png": "[encoded data removed]",
      "text/plain": [
       "<Figure size 432x288 with 1 Axes>"
      ]
     },
     "metadata": {
      "needs_background": "light"
     },
     "output_type": "display_data"
    }
   ],
   "source": [
    "#画分布图\n",
    "plt.hist(tvds,bins=np.arange(0,0.2,0.005))\n",
    "plt.plot([0.145,0.145],[0.145,100])\n",
    "plt.show()"
   ]
  },
  {
   "cell_type": "raw",
   "metadata": {},
   "source": [
    "总变异系数0.145远偏离正常值\n",
    "因此，可以认为父母身高和子女身高相关"
   ]
  },
  {
   "cell_type": "markdown",
   "metadata": {},
   "source": [
    "# 2. 不同年龄段对三类节目的关注率"
   ]
  },
  {
   "cell_type": "code",
   "execution_count": 109,
   "metadata": {},
   "outputs": [
    {
     "data": {
      "text/html": [
       "<div>\n",
       "<style scoped>\n",
       "    .dataframe tbody tr th:only-of-type {\n",
       "        vertical-align: middle;\n",
       "    }\n",
       "\n",
       "    .dataframe tbody tr th {\n",
       "        vertical-align: top;\n",
       "    }\n",
       "\n",
       "    .dataframe thead th {\n",
       "        text-align: right;\n",
       "    }\n",
       "</style>\n",
       "<table border=\"1\" class=\"dataframe\">\n",
       "  <thead>\n",
       "    <tr style=\"text-align: right;\">\n",
       "      <th></th>\n",
       "      <th>年龄段</th>\n",
       "      <th>体育类</th>\n",
       "      <th>综艺类</th>\n",
       "      <th>影视剧类</th>\n",
       "    </tr>\n",
       "  </thead>\n",
       "  <tbody>\n",
       "    <tr>\n",
       "      <th>0</th>\n",
       "      <td>&lt;30</td>\n",
       "      <td>83</td>\n",
       "      <td>70</td>\n",
       "      <td>45</td>\n",
       "    </tr>\n",
       "    <tr>\n",
       "      <th>1</th>\n",
       "      <td>30-50</td>\n",
       "      <td>91</td>\n",
       "      <td>86</td>\n",
       "      <td>15</td>\n",
       "    </tr>\n",
       "    <tr>\n",
       "      <th>2</th>\n",
       "      <td>&gt;50</td>\n",
       "      <td>41</td>\n",
       "      <td>38</td>\n",
       "      <td>10</td>\n",
       "    </tr>\n",
       "  </tbody>\n",
       "</table>\n",
       "</div>"
      ],
      "text/plain": [
       "     年龄段  体育类  综艺类  影视剧类\n",
       "0    <30   83   70    45\n",
       "1  30-50   91   86    15\n",
       "2    >50   41   38    10"
      ]
     },
     "execution_count": 109,
     "metadata": {},
     "output_type": "execute_result"
    }
   ],
   "source": [
    "TV=pd.DataFrame({\"年龄段\":[\"<30\",\"30-50\",\">50\"],\n",
    "                   \"体育类\":[83,91,41],\n",
    "                  \"综艺类\":[70,86,38],\n",
    "                  \"影视剧类\":[45,15,10]},\n",
    "                 columns=[\"年龄段\",\"体育类\",\"综艺类\",\"影视剧类\"])\n",
    "TV"
   ]
  },
  {
   "cell_type": "code",
   "execution_count": 114,
   "metadata": {},
   "outputs": [
    {
     "name": "stdout",
     "output_type": "stream",
     "text": [
      "Person Chi2: \n",
      " p-value=0.0009203281225871962,df=4\n"
     ]
    }
   ],
   "source": [
    "#齐性检验\n",
    "x=TV.set_index(\"年龄段\")\n",
    "chi2,p,df,exp=stats.chi2_contingency(x)\n",
    "print(\"Person Chi2: \\n p-value={},df={}\".format(p,df))"
   ]
  },
  {
   "cell_type": "code",
   "execution_count": null,
   "metadata": {},
   "outputs": [],
   "source": [
    "p值为0.00092，于是拒绝原假设，\n",
    "不同年龄段的观众对三类节目关注率不同。"
   ]
  },
  {
   "cell_type": "markdown",
   "metadata": {},
   "source": [
    "# 1.陪审团种族歧视问题"
   ]
  },
  {
   "cell_type": "markdown",
   "metadata": {},
   "source": [
    "## 1.1绘制情况"
   ]
  },
  {
   "cell_type": "code",
   "execution_count": 66,
   "metadata": {},
   "outputs": [
    {
     "data": {
      "text/html": [
       "<div>\n",
       "<style scoped>\n",
       "    .dataframe tbody tr th:only-of-type {\n",
       "        vertical-align: middle;\n",
       "    }\n",
       "\n",
       "    .dataframe tbody tr th {\n",
       "        vertical-align: top;\n",
       "    }\n",
       "\n",
       "    .dataframe thead th {\n",
       "        text-align: right;\n",
       "    }\n",
       "</style>\n",
       "<table border=\"1\" class=\"dataframe\">\n",
       "  <thead>\n",
       "    <tr style=\"text-align: right;\">\n",
       "      <th></th>\n",
       "      <th>Ethnicity</th>\n",
       "      <th>Eligible</th>\n",
       "      <th>Panels</th>\n",
       "    </tr>\n",
       "  </thead>\n",
       "  <tbody>\n",
       "    <tr>\n",
       "      <th>0</th>\n",
       "      <td>Asian</td>\n",
       "      <td>0.15</td>\n",
       "      <td>0.26</td>\n",
       "    </tr>\n",
       "    <tr>\n",
       "      <th>1</th>\n",
       "      <td>Black</td>\n",
       "      <td>0.18</td>\n",
       "      <td>0.08</td>\n",
       "    </tr>\n",
       "    <tr>\n",
       "      <th>2</th>\n",
       "      <td>Latino</td>\n",
       "      <td>0.12</td>\n",
       "      <td>0.08</td>\n",
       "    </tr>\n",
       "    <tr>\n",
       "      <th>3</th>\n",
       "      <td>White</td>\n",
       "      <td>0.54</td>\n",
       "      <td>0.54</td>\n",
       "    </tr>\n",
       "    <tr>\n",
       "      <th>4</th>\n",
       "      <td>Other</td>\n",
       "      <td>0.01</td>\n",
       "      <td>0.04</td>\n",
       "    </tr>\n",
       "  </tbody>\n",
       "</table>\n",
       "</div>"
      ],
      "text/plain": [
       "  Ethnicity  Eligible  Panels\n",
       "0     Asian      0.15    0.26\n",
       "1     Black      0.18    0.08\n",
       "2    Latino      0.12    0.08\n",
       "3     White      0.54    0.54\n",
       "4     Other      0.01    0.04"
      ]
     },
     "execution_count": 66,
     "metadata": {},
     "output_type": "execute_result"
    }
   ],
   "source": [
    "#绘制陪审团种族情况和总人口种族情况\n",
    "jury=pd.DataFrame({\"Ethnicity\":[\"Asian\",\"Black\",\"Latino\",\"White\",\"Other\"],\n",
    "                   \"Eligible\":[0.15,0.18,0.12,0.54,0.01],\n",
    "                  \"Panels\":[0.26,0.08,0.08,0.54,0.04]},\n",
    "                 columns=[\"Ethnicity\",\"Eligible\",\"Panels\"])\n",
    "jury"
   ]
  },
  {
   "cell_type": "code",
   "execution_count": 67,
   "metadata": {},
   "outputs": [
    {
     "data": {
      "image/png": "[encoded data removed]",
      "text/plain": [
       "<Figure size 432x288 with 1 Axes>"
      ]
     },
     "metadata": {
      "needs_background": "light"
     },
     "output_type": "display_data"
    }
   ],
   "source": [
    "x=np.arange(5)+1\n",
    "width=0.35\n",
    "#eligible\n",
    "plt.bar(x-0.5*width,jury.Eligible,width=width,facecolor=\"lightskyblue\",edgecolor=\"white\")\n",
    "#panel\n",
    "plt.bar(x+0.5*width,jury.Eligible,width=width,facecolor=\"yellowgreen\",edgecolor=\"white\")\n",
    "#设置名称\n",
    "plt.xticks(x,jury.Ethnicity)\n",
    "plt.legend([\"Eligible\",\"Panels\"])\n",
    "plt.show()"
   ]
  },
  {
   "cell_type": "markdown",
   "metadata": {},
   "source": [
    "## 1.2刻画两个分布之间的距离-变异距离"
   ]
  },
  {
   "cell_type": "code",
   "execution_count": 68,
   "metadata": {},
   "outputs": [
    {
     "data": {
      "text/html": [
       "<div>\n",
       "<style scoped>\n",
       "    .dataframe tbody tr th:only-of-type {\n",
       "        vertical-align: middle;\n",
       "    }\n",
       "\n",
       "    .dataframe tbody tr th {\n",
       "        vertical-align: top;\n",
       "    }\n",
       "\n",
       "    .dataframe thead th {\n",
       "        text-align: right;\n",
       "    }\n",
       "</style>\n",
       "<table border=\"1\" class=\"dataframe\">\n",
       "  <thead>\n",
       "    <tr style=\"text-align: right;\">\n",
       "      <th></th>\n",
       "      <th>Ethnicity</th>\n",
       "      <th>Eligible</th>\n",
       "      <th>Panels</th>\n",
       "      <th>Dif</th>\n",
       "      <th>Abs.Dif</th>\n",
       "    </tr>\n",
       "  </thead>\n",
       "  <tbody>\n",
       "    <tr>\n",
       "      <th>0</th>\n",
       "      <td>Asian</td>\n",
       "      <td>0.15</td>\n",
       "      <td>0.26</td>\n",
       "      <td>0.11</td>\n",
       "      <td>0.11</td>\n",
       "    </tr>\n",
       "    <tr>\n",
       "      <th>1</th>\n",
       "      <td>Black</td>\n",
       "      <td>0.18</td>\n",
       "      <td>0.08</td>\n",
       "      <td>-0.10</td>\n",
       "      <td>0.10</td>\n",
       "    </tr>\n",
       "    <tr>\n",
       "      <th>2</th>\n",
       "      <td>Latino</td>\n",
       "      <td>0.12</td>\n",
       "      <td>0.08</td>\n",
       "      <td>-0.04</td>\n",
       "      <td>0.04</td>\n",
       "    </tr>\n",
       "    <tr>\n",
       "      <th>3</th>\n",
       "      <td>White</td>\n",
       "      <td>0.54</td>\n",
       "      <td>0.54</td>\n",
       "      <td>0.00</td>\n",
       "      <td>0.00</td>\n",
       "    </tr>\n",
       "    <tr>\n",
       "      <th>4</th>\n",
       "      <td>Other</td>\n",
       "      <td>0.01</td>\n",
       "      <td>0.04</td>\n",
       "      <td>0.03</td>\n",
       "      <td>0.03</td>\n",
       "    </tr>\n",
       "  </tbody>\n",
       "</table>\n",
       "</div>"
      ],
      "text/plain": [
       "  Ethnicity  Eligible  Panels   Dif  Abs.Dif\n",
       "0     Asian      0.15    0.26  0.11     0.11\n",
       "1     Black      0.18    0.08 -0.10     0.10\n",
       "2    Latino      0.12    0.08 -0.04     0.04\n",
       "3     White      0.54    0.54  0.00     0.00\n",
       "4     Other      0.01    0.04  0.03     0.03"
      ]
     },
     "execution_count": 68,
     "metadata": {},
     "output_type": "execute_result"
    }
   ],
   "source": [
    "#计算两组比例的差\n",
    "jury[\"Dif\"]=jury.Panels-jury.Eligible\n",
    "#计算绝对值\n",
    "jury[\"Abs.Dif\"]=abs(jury.Dif)\n",
    "jury"
   ]
  },
  {
   "cell_type": "code",
   "execution_count": 69,
   "metadata": {},
   "outputs": [
    {
     "data": {
      "text/plain": [
       "0.14"
      ]
     },
     "execution_count": 69,
     "metadata": {},
     "output_type": "execute_result"
    }
   ],
   "source": [
    "#将差的绝对值求和除以2\n",
    "jury[\"Abs.Dif\"].sum()/2"
   ]
  },
  {
   "cell_type": "code",
   "execution_count": 70,
   "metadata": {},
   "outputs": [],
   "source": [
    "#定义求变异距离的函数\n",
    "def total_variation_distance(distribution_1,distribution_2):\n",
    "    return np.abs(distribution_1-distribution_2).sum()/2\n",
    "def table_tvd(table,label1,label2):\n",
    "    return total_variation_distance(table[label1],table[label2])"
   ]
  },
  {
   "cell_type": "code",
   "execution_count": 71,
   "metadata": {},
   "outputs": [
    {
     "data": {
      "text/plain": [
       "0.14"
      ]
     },
     "execution_count": 71,
     "metadata": {},
     "output_type": "execute_result"
    }
   ],
   "source": [
    "table_tvd(jury,\"Eligible\",\"Panels\")"
   ]
  },
  {
   "cell_type": "markdown",
   "metadata": {},
   "source": [
    "## 1.3 模拟随机抽取 "
   ]
  },
  {
   "cell_type": "code",
   "execution_count": 72,
   "metadata": {},
   "outputs": [],
   "source": [
    "import random\n",
    "#随机抽样函数\n",
    "def randomPick(some_list,probabilities):\n",
    "    \"以制定的概率从列表中随机获取元素probabilitiess list\"\n",
    "    x=random.uniform(0,1)\n",
    "    cumulativeProbability = 0.0\n",
    "    #链接变量的循环范围\n",
    "    for item, iterProbability in zip(some_list,probabilities):\n",
    "        cumulativeProbability +=iterProbability\n",
    "        if x< cumulativeProbability:\n",
    "            break\n",
    "    return item\n",
    "def proportions_from_distribution(table,element_label,probability_label,size):\n",
    "    #有放回抽样\n",
    "    n=0\n",
    "    randomSample=[]\n",
    "    while n<size:\n",
    "        randomSample.append(randomPick(table[element_label],table[probability_label]))\n",
    "        n+=1\n",
    "    return randomSample"
   ]
  },
  {
   "cell_type": "code",
   "execution_count": 73,
   "metadata": {},
   "outputs": [
    {
     "data": {
      "text/plain": [
       "(array(['Asian', 'Black', 'Latino', 'Other', 'White'], dtype='<U6'),\n",
       " array([0.16242257, 0.17481074, 0.11906401, 0.00963524, 0.53406745]))"
      ]
     },
     "execution_count": 73,
     "metadata": {},
     "output_type": "execute_result"
    }
   ],
   "source": [
    "size=1453\n",
    "#以“合格陪审员”分布随机抽样\n",
    "randomSample=proportions_from_distribution(jury,\"Ethnicity\",\"Eligible\",size)\n",
    "#用np.unique进行总结\n",
    "value,sampleProportion=np.unique(randomSample,return_counts=True)\n",
    "value,np.divide(sampleProportion,size)"
   ]
  },
  {
   "cell_type": "code",
   "execution_count": 74,
   "metadata": {},
   "outputs": [
    {
     "data": {
      "text/plain": [
       "1.0"
      ]
     },
     "execution_count": 74,
     "metadata": {},
     "output_type": "execute_result"
    }
   ],
   "source": [
    "np.divide(sampleProportion,size).sum()"
   ]
  },
  {
   "cell_type": "code",
   "execution_count": 75,
   "metadata": {},
   "outputs": [
    {
     "data": {
      "text/html": [
       "<div>\n",
       "<style scoped>\n",
       "    .dataframe tbody tr th:only-of-type {\n",
       "        vertical-align: middle;\n",
       "    }\n",
       "\n",
       "    .dataframe tbody tr th {\n",
       "        vertical-align: top;\n",
       "    }\n",
       "\n",
       "    .dataframe thead th {\n",
       "        text-align: right;\n",
       "    }\n",
       "</style>\n",
       "<table border=\"1\" class=\"dataframe\">\n",
       "  <thead>\n",
       "    <tr style=\"text-align: right;\">\n",
       "      <th></th>\n",
       "      <th>Ethnicity</th>\n",
       "      <th>Eligible</th>\n",
       "      <th>Panels</th>\n",
       "      <th>Dif</th>\n",
       "      <th>Abs.Dif</th>\n",
       "    </tr>\n",
       "  </thead>\n",
       "  <tbody>\n",
       "    <tr>\n",
       "      <th>0</th>\n",
       "      <td>Asian</td>\n",
       "      <td>0.15</td>\n",
       "      <td>0.26</td>\n",
       "      <td>0.11</td>\n",
       "      <td>0.11</td>\n",
       "    </tr>\n",
       "    <tr>\n",
       "      <th>1</th>\n",
       "      <td>Black</td>\n",
       "      <td>0.18</td>\n",
       "      <td>0.08</td>\n",
       "      <td>-0.10</td>\n",
       "      <td>0.10</td>\n",
       "    </tr>\n",
       "    <tr>\n",
       "      <th>2</th>\n",
       "      <td>Latino</td>\n",
       "      <td>0.12</td>\n",
       "      <td>0.08</td>\n",
       "      <td>-0.04</td>\n",
       "      <td>0.04</td>\n",
       "    </tr>\n",
       "    <tr>\n",
       "      <th>4</th>\n",
       "      <td>Other</td>\n",
       "      <td>0.01</td>\n",
       "      <td>0.04</td>\n",
       "      <td>0.03</td>\n",
       "      <td>0.03</td>\n",
       "    </tr>\n",
       "    <tr>\n",
       "      <th>3</th>\n",
       "      <td>White</td>\n",
       "      <td>0.54</td>\n",
       "      <td>0.54</td>\n",
       "      <td>0.00</td>\n",
       "      <td>0.00</td>\n",
       "    </tr>\n",
       "  </tbody>\n",
       "</table>\n",
       "</div>"
      ],
      "text/plain": [
       "  Ethnicity  Eligible  Panels   Dif  Abs.Dif\n",
       "0     Asian      0.15    0.26  0.11     0.11\n",
       "1     Black      0.18    0.08 -0.10     0.10\n",
       "2    Latino      0.12    0.08 -0.04     0.04\n",
       "4     Other      0.01    0.04  0.03     0.03\n",
       "3     White      0.54    0.54  0.00     0.00"
      ]
     },
     "execution_count": 75,
     "metadata": {},
     "output_type": "execute_result"
    }
   ],
   "source": [
    "#排序\n",
    "jury.sort_values(by=\"Ethnicity\",axis=0,ascending=True,inplace=True)\n",
    "jury"
   ]
  },
  {
   "cell_type": "code",
   "execution_count": 76,
   "metadata": {},
   "outputs": [],
   "source": [
    "#画出各组的族裔组成\n"
   ]
  },
  {
   "cell_type": "code",
   "execution_count": 77,
   "metadata": {},
   "outputs": [
    {
     "data": {
      "text/html": [
       "<div>\n",
       "<style scoped>\n",
       "    .dataframe tbody tr th:only-of-type {\n",
       "        vertical-align: middle;\n",
       "    }\n",
       "\n",
       "    .dataframe tbody tr th {\n",
       "        vertical-align: top;\n",
       "    }\n",
       "\n",
       "    .dataframe thead th {\n",
       "        text-align: right;\n",
       "    }\n",
       "</style>\n",
       "<table border=\"1\" class=\"dataframe\">\n",
       "  <thead>\n",
       "    <tr style=\"text-align: right;\">\n",
       "      <th></th>\n",
       "      <th>Ethnicity</th>\n",
       "      <th>Eligible</th>\n",
       "      <th>Panels</th>\n",
       "      <th>Dif</th>\n",
       "      <th>Abs.Dif</th>\n",
       "      <th>Random Sample</th>\n",
       "    </tr>\n",
       "  </thead>\n",
       "  <tbody>\n",
       "    <tr>\n",
       "      <th>0</th>\n",
       "      <td>Asian</td>\n",
       "      <td>0.15</td>\n",
       "      <td>0.26</td>\n",
       "      <td>0.11</td>\n",
       "      <td>0.11</td>\n",
       "      <td>0.162423</td>\n",
       "    </tr>\n",
       "    <tr>\n",
       "      <th>1</th>\n",
       "      <td>Black</td>\n",
       "      <td>0.18</td>\n",
       "      <td>0.08</td>\n",
       "      <td>-0.10</td>\n",
       "      <td>0.10</td>\n",
       "      <td>0.174811</td>\n",
       "    </tr>\n",
       "    <tr>\n",
       "      <th>2</th>\n",
       "      <td>Latino</td>\n",
       "      <td>0.12</td>\n",
       "      <td>0.08</td>\n",
       "      <td>-0.04</td>\n",
       "      <td>0.04</td>\n",
       "      <td>0.119064</td>\n",
       "    </tr>\n",
       "    <tr>\n",
       "      <th>4</th>\n",
       "      <td>Other</td>\n",
       "      <td>0.01</td>\n",
       "      <td>0.04</td>\n",
       "      <td>0.03</td>\n",
       "      <td>0.03</td>\n",
       "      <td>0.009635</td>\n",
       "    </tr>\n",
       "    <tr>\n",
       "      <th>3</th>\n",
       "      <td>White</td>\n",
       "      <td>0.54</td>\n",
       "      <td>0.54</td>\n",
       "      <td>0.00</td>\n",
       "      <td>0.00</td>\n",
       "      <td>0.534067</td>\n",
       "    </tr>\n",
       "  </tbody>\n",
       "</table>\n",
       "</div>"
      ],
      "text/plain": [
       "  Ethnicity  Eligible  Panels   Dif  Abs.Dif  Random Sample\n",
       "0     Asian      0.15    0.26  0.11     0.11       0.162423\n",
       "1     Black      0.18    0.08 -0.10     0.10       0.174811\n",
       "2    Latino      0.12    0.08 -0.04     0.04       0.119064\n",
       "4     Other      0.01    0.04  0.03     0.03       0.009635\n",
       "3     White      0.54    0.54  0.00     0.00       0.534067"
      ]
     },
     "execution_count": 77,
     "metadata": {},
     "output_type": "execute_result"
    }
   ],
   "source": [
    "#增加至前面中\n",
    "jury[\"Random Sample\"]=np.divide(sampleProportion,size)\n",
    "jury"
   ]
  },
  {
   "cell_type": "code",
   "execution_count": 78,
   "metadata": {},
   "outputs": [
    {
     "data": {
      "image/png": "[encoded data removed]",
      "text/plain": [
       "<Figure size 432x288 with 1 Axes>"
      ]
     },
     "metadata": {
      "needs_background": "light"
     },
     "output_type": "display_data"
    }
   ],
   "source": [
    "x=np.arange(5)+1\n",
    "width=0.25\n",
    "#eligible\n",
    "plt.bar(x-width,jury.Eligible,width=width,facecolor=\"lightskyblue\",edgecolor=\"white\")\n",
    "#panel\n",
    "plt.bar(x+0*width,jury.Eligible,width=width,facecolor=\"yellowgreen\",edgecolor=\"white\")\n",
    "#random\n",
    "plt.bar(x+1*width,jury[\"Random Sample\"],width=width,facecolor=\"pink\",edgecolor=\"white\")\n",
    "#设置名称\n",
    "plt.xticks(x,jury.Ethnicity)\n",
    "plt.legend([\"Eligible\",\"Panels\"])\n",
    "plt.show()"
   ]
  },
  {
   "cell_type": "code",
   "execution_count": 79,
   "metadata": {},
   "outputs": [
    {
     "data": {
      "text/plain": [
       "0.012422573984858909"
      ]
     },
     "execution_count": 79,
     "metadata": {},
     "output_type": "execute_result"
    }
   ],
   "source": [
    "#计算随机抽取的陪审员和合格陪审员的族裔分布\n",
    "table_tvd(jury,\"Eligible\",\"Random Sample\")"
   ]
  },
  {
   "cell_type": "code",
   "execution_count": 86,
   "metadata": {},
   "outputs": [],
   "source": [
    "#抽取500次绘制tvd的分布\n",
    "size=1453\n",
    "tvds=[]\n",
    "repetitions=500\n",
    "for i in np.arange(repetitions):\n",
    "    randomSample=proportions_from_distribution(ch,\"height\",\"ch_total\",size)\n",
    "    value,sampleProportion=np.unique(randomSample,return_counts=True )\n",
    "    tvds=np.append(tvds,np.sum(np.abs(np.divide(sampleProportion,size)-ch[\"ch_total\"])/2))"
   ]
  },
  {
   "cell_type": "code",
   "execution_count": 87,
   "metadata": {},
   "outputs": [
    {
     "data": {
      "text/plain": [
       "array([0.0207524 , 0.01029683, 0.02662316, 0.01645004, 0.04673732,\n",
       "       0.01701055, 0.01108943, 0.01315923, 0.02832294, 0.01608002])"
      ]
     },
     "execution_count": 87,
     "metadata": {},
     "output_type": "execute_result"
    }
   ],
   "source": [
    "tvds[0:10]"
   ]
  },
  {
   "cell_type": "code",
   "execution_count": 65,
   "metadata": {},
   "outputs": [
    {
     "data": {
      "text/plain": [
       "0.030241569167240197"
      ]
     },
     "execution_count": 65,
     "metadata": {},
     "output_type": "execute_result"
    }
   ],
   "source": [
    "np.quantile(tvds,q=0.95)"
   ]
  },
  {
   "cell_type": "code",
   "execution_count": 68,
   "metadata": {},
   "outputs": [
    {
     "data": {
      "image/png": "[encoded data removed]",
      "text/plain": [
       "<Figure size 432x288 with 1 Axes>"
      ]
     },
     "metadata": {
      "needs_background": "light"
     },
     "output_type": "display_data"
    }
   ],
   "source": [
    "plt.hist(tvds,bins=np.arange(0,0.2,0.005))\n",
    "plt.show()"
   ]
  },
  {
   "cell_type": "code",
   "execution_count": 70,
   "metadata": {},
   "outputs": [
    {
     "data": {
      "text/plain": [
       "1.0"
      ]
     },
     "execution_count": 70,
     "metadata": {},
     "output_type": "execute_result"
    }
   ],
   "source": [
    "(tvds<=0.14).sum()/repetitions"
   ]
  },
  {
   "cell_type": "markdown",
   "metadata": {},
   "source": [
    "# 2   "
   ]
  },
  {
   "cell_type": "code",
   "execution_count": 11,
   "metadata": {},
   "outputs": [
    {
     "ename": "NameError",
     "evalue": "name 'scores' is not defined",
     "output_type": "error",
     "traceback": [
      "\u001b[1;31m---------------------------------------------------------------------------\u001b[0m",
      "\u001b[1;31mNameError\u001b[0m                                 Traceback (most recent call last)",
      "\u001b[1;32m<ipython-input-11-d54fbac614cd>\u001b[0m in \u001b[0;36m<module>\u001b[1;34m\u001b[0m\n\u001b[1;32m----> 1\u001b[1;33m \u001b[0mscores\u001b[0m\u001b[1;33m.\u001b[0m\u001b[0mgroupby\u001b[0m\u001b[1;33m(\u001b[0m\u001b[1;34m\"Section\"\u001b[0m\u001b[1;33m)\u001b[0m\u001b[1;33m[\u001b[0m\u001b[1;34m\"Score\"\u001b[0m\u001b[1;33m]\u001b[0m\u001b[1;33m.\u001b[0m\u001b[0mmean\u001b[0m\u001b[1;33m(\u001b[0m\u001b[1;33m)\u001b[0m\u001b[1;33m\u001b[0m\u001b[1;33m\u001b[0m\u001b[0m\n\u001b[0m",
      "\u001b[1;31mNameError\u001b[0m: name 'scores' is not defined"
     ]
    }
   ],
   "source": [
    "scores.groupby(\"Section\")[\"Score\"].mean()"
   ]
  },
  {
   "cell_type": "code",
   "execution_count": 12,
   "metadata": {},
   "outputs": [
    {
     "ename": "NameError",
     "evalue": "name 'scores' is not defined",
     "output_type": "error",
     "traceback": [
      "\u001b[1;31m---------------------------------------------------------------------------\u001b[0m",
      "\u001b[1;31mNameError\u001b[0m                                 Traceback (most recent call last)",
      "\u001b[1;32m<ipython-input-12-9dbbe8bfb1ec>\u001b[0m in \u001b[0;36m<module>\u001b[1;34m\u001b[0m\n\u001b[1;32m----> 1\u001b[1;33m \u001b[0mscores\u001b[0m\u001b[1;33m.\u001b[0m\u001b[0mgroupby\u001b[0m\u001b[1;33m(\u001b[0m\u001b[1;34m\"Section\"\u001b[0m\u001b[1;33m)\u001b[0m\u001b[1;33m[\u001b[0m\u001b[1;34m\"Score\"\u001b[0m\u001b[1;33m]\u001b[0m\u001b[1;33m.\u001b[0m\u001b[0mcount\u001b[0m\u001b[1;33m(\u001b[0m\u001b[1;33m)\u001b[0m\u001b[1;33m\u001b[0m\u001b[1;33m\u001b[0m\u001b[0m\n\u001b[0m",
      "\u001b[1;31mNameError\u001b[0m: name 'scores' is not defined"
     ]
    }
   ],
   "source": [
    "scores.groupby(\"Section\")[\"Score\"].count()"
   ]
  },
  {
   "cell_type": "code",
   "execution_count": null,
   "metadata": {},
   "outputs": [],
   "source": [
    "#想要经验分布稳定，增加模拟次数——大数定理\n",
    "randomSample=proportions_from_distribution(scores,\"Score\",\"prob\",size)\n",
    "score_mean=np.append(score_mean,np.array(random.Sample).mean())\n",
    "plt.hist(score_mean)\n",
    "mean_by_section=scores.groupby(\"Section\")[\"score\"].mean()\n",
    "observed_statistic=np.array(mean_by_section)[11]\n",
    "plt.plot([observed_statistic,observed_statistic],[0,250],color=\"red\")\n",
    "plt.show()"
   ]
  },
  {
   "cell_type": "code",
   "execution_count": null,
   "metadata": {},
   "outputs": [],
   "source": [
    "pvalue=(score_mean<=observed_statistic).mean()\n",
    "print(pvalue)"
   ]
  },
  {
   "cell_type": "code",
   "execution_count": null,
   "metadata": {},
   "outputs": [],
   "source": [
    "#第一类错误 本来正确，拒绝原假设\n",
    "#第二类错误 本来拒绝原假设，接受了\n",
    "#第一类错误更加严重\n",
    "#一般一类错误越大二类错误越小，一类错误越少二类错误越大"
   ]
  },
  {
   "cell_type": "code",
   "execution_count": 2,
   "metadata": {},
   "outputs": [],
   "source": [
    "import scipy.stats as stats\n",
    "import numpy as np"
   ]
  },
  {
   "cell_type": "code",
   "execution_count": 8,
   "metadata": {},
   "outputs": [
    {
     "name": "stdout",
     "output_type": "stream",
     "text": [
      "One sample t-test:stat=-2.3275531593729157,p-value=0.020334872402761852\n",
      "Two sample t-test:stat2=-3.481101739488144,p-value2=0.0005209812786136006\n"
     ]
    }
   ],
   "source": [
    "np.random.seed(1010)\n",
    "x=np.random.normal(3,1,500)\n",
    "y=np.random.normal(3.2,1,500)\n",
    "stat,p_value=stats.ttest_1samp(x,3.1)\n",
    "#不限定方差相等\n",
    "stat2,p_value2=stats.ttest_ind(x,y,equal_var=False)\n",
    "print(\"One sample t-test:stat={},p-value={}\".format(stat,p_value))\n",
    "print(\"Two sample t-test:stat2={},p-value2={}\".format(stat2,p_value2))"
   ]
  },
  {
   "cell_type": "code",
   "execution_count": 9,
   "metadata": {},
   "outputs": [
    {
     "data": {
      "text/plain": [
       "0.023206423480015746"
      ]
     },
     "execution_count": 9,
     "metadata": {},
     "output_type": "execute_result"
    }
   ],
   "source": [
    "stats.binom_test(x=45,n=1000,p=0.06,alternative=\"less\")\n",
    "#将less更改为 greater 改位two-sided是双边检验"
   ]
  },
  {
   "cell_type": "code",
   "execution_count": 10,
   "metadata": {},
   "outputs": [
    {
     "name": "stdout",
     "output_type": "stream",
     "text": [
      "sort of x [1 2 4 5 7 8]\n",
      "rank of x [1. 3. 2. 6. 4. 5.]\n"
     ]
    }
   ],
   "source": [
    "#数字对应的位置为秩,不反应具体的值，但反应大小顺序\n",
    "x=np.array([1,4,2,8,5,7])\n",
    "print(\"sort of x\",np.sort(x))\n",
    "print(\"rank of x\",stats.rankdata(x))"
   ]
  },
  {
   "cell_type": "code",
   "execution_count": 11,
   "metadata": {},
   "outputs": [
    {
     "data": {
      "text/plain": [
       "WilcoxonResult(statistic=55478.0, pvalue=0.027039583924864934)"
      ]
     },
     "execution_count": 11,
     "metadata": {},
     "output_type": "execute_result"
    }
   ],
   "source": [
    "#wilcoxon符号秩检验 \n",
    "np.random.seed(1010)\n",
    "x=np.random.normal(3,1,500)\n",
    "stats.wilcoxon(x-3.1,correction=True)\n",
    "#适用于不仅仅是正态分布，可以检验股票，t检验只适用于正态分布"
   ]
  },
  {
   "cell_type": "code",
   "execution_count": 14,
   "metadata": {},
   "outputs": [
    {
     "name": "stdout",
     "output_type": "stream",
     "text": [
      "RanksumsResult(statistic=-3.2759342262849316, pvalue=0.0010531308405010203)\n",
      "p-value of one sided ranksum test= 0.0005265654202505102\n",
      "MannwhitneyuResult(statistic=110040.0, pvalue=0.0005267695906172814)\n"
     ]
    }
   ],
   "source": [
    "np.random.seed(1010)\n",
    "x=np.random.normal(3,1,500)\n",
    "y=np.random.normal(3.2,1,500)\n",
    "#等价代码之一\n",
    "print(stats.ranksums(x,y))\n",
    "print(\"p-value of one sided ranksum test=\",\\\n",
    "      stats.ranksums(x,y)[1]/2)\n",
    "print(stats.mannwhitneyu(x,y,alternative=\"less\"))"
   ]
  },
  {
   "cell_type": "code",
   "execution_count": null,
   "metadata": {},
   "outputs": [],
   "source": [
    "#秩和检验"
   ]
  },
  {
   "cell_type": "code",
   "execution_count": null,
   "metadata": {},
   "outputs": [],
   "source": []
  },
  {
   "cell_type": "code",
   "execution_count": 22,
   "metadata": {},
   "outputs": [
    {
     "name": "stdout",
     "output_type": "stream",
     "text": [
      "chisq=11.37452118903212,p-value=0.9105966619328724\n"
     ]
    },
    {
     "data": {
      "image/png": "[encoded data removed]",
      "text/plain": [
       "<Figure size 864x360 with 1 Axes>"
      ]
     },
     "metadata": {
      "needs_background": "light"
     },
     "output_type": "display_data"
    }
   ],
   "source": [
    "#拟合优度卡方检验\n",
    "#独立性卡方检验\n",
    "#假相关 本来是独立的，但维数过高数据量过少\n",
    "#A1-Ar所占的比例\n",
    "size=5000\n",
    "x=stats.poisson.rvs(10,size=size,random_state=1010)\n",
    "fig=plt.figure(figsize=(12,5))\n",
    "H=plt.hist(x,20,color=\"red\",edgecolor=\"black\",hatch=\"/\")\n",
    "E=np.diff(stats.poisson.cdf(H[1],10))*size\n",
    "n_1=H[0]\n",
    "chisq,p=stats.chisquare(f_obs=n_1,f_exp=E)\n",
    "print(\"chisq={},p-value={}\".format(chisq,p))"
   ]
  },
  {
   "cell_type": "code",
   "execution_count": 23,
   "metadata": {},
   "outputs": [
    {
     "ename": "AttributeError",
     "evalue": "'numpy.ndarray' object has no attribute 'set_index'",
     "output_type": "error",
     "traceback": [
      "\u001b[1;31m---------------------------------------------------------------------------\u001b[0m",
      "\u001b[1;31mAttributeError\u001b[0m                            Traceback (most recent call last)",
      "\u001b[1;32m<ipython-input-23-c890c1d70c59>\u001b[0m in \u001b[0;36m<module>\u001b[1;34m\u001b[0m\n\u001b[1;32m----> 1\u001b[1;33m \u001b[0mx1\u001b[0m\u001b[1;33m=\u001b[0m\u001b[0mx\u001b[0m\u001b[1;33m.\u001b[0m\u001b[0mset_index\u001b[0m\u001b[1;33m(\u001b[0m\u001b[1;34m\"血型\"\u001b[0m\u001b[1;33m)\u001b[0m\u001b[1;33m\u001b[0m\u001b[1;33m\u001b[0m\u001b[0m\n\u001b[0m\u001b[0;32m      2\u001b[0m \u001b[0mchi2\u001b[0m\u001b[1;33m,\u001b[0m\u001b[0mp\u001b[0m\u001b[1;33m,\u001b[0m\u001b[0mdf\u001b[0m\u001b[1;33m,\u001b[0m\u001b[0mexp\u001b[0m\u001b[1;33m=\u001b[0m\u001b[0mstats\u001b[0m\u001b[1;33m.\u001b[0m\u001b[0mchi2_contingency\u001b[0m\u001b[1;33m(\u001b[0m\u001b[0mx1\u001b[0m\u001b[1;33m)\u001b[0m\u001b[1;33m\u001b[0m\u001b[1;33m\u001b[0m\u001b[0m\n\u001b[0;32m      3\u001b[0m \u001b[0mprint\u001b[0m\u001b[1;33m(\u001b[0m\u001b[1;34m\"Pearson Chi2: \\n p-value={}, df={}\"\u001b[0m\u001b[1;33m.\u001b[0m\u001b[0mformat\u001b[0m\u001b[1;33m(\u001b[0m\u001b[0mp\u001b[0m\u001b[1;33m,\u001b[0m\u001b[0mdf\u001b[0m\u001b[1;33m)\u001b[0m\u001b[1;33m)\u001b[0m\u001b[1;33m\u001b[0m\u001b[1;33m\u001b[0m\u001b[0m\n",
      "\u001b[1;31mAttributeError\u001b[0m: 'numpy.ndarray' object has no attribute 'set_index'"
     ]
    }
   ],
   "source": [
    "#独立性检验 P（A) P(B)\n",
    "x1=x.set_index(\"血型\")\n",
    "chi2,p,df,exp=stats.chi2_contingency(x1)\n",
    "print(\"Pearson Chi2: \\n p-value={}, df={}\".format(p,df))"
   ]
  },
  {
   "cell_type": "code",
   "execution_count": null,
   "metadata": {},
   "outputs": [],
   "source": [
    "#卡方齐性检验\n",
    "#简奥斯汀和其他的书 语言风格是否一致"
   ]
  },
  {
   "cell_type": "code",
   "execution_count": 5,
   "metadata": {},
   "outputs": [],
   "source": [
    "#费雪经济学检验在处理频数很少的时候更精确\n",
    "x=pd.DataFrame({\"药物\":[\"A\",\"B\"],\"有效\":[8,7],\"无效\":[2,23]})"
   ]
  },
  {
   "cell_type": "code",
   "execution_count": 6,
   "metadata": {},
   "outputs": [
    {
     "name": "stdout",
     "output_type": "stream",
     "text": [
      "Fisher: \n",
      " odds ratio = 13.142857142857142,p-value=0.0024285995773062653\n",
      "Person Chi2：\n",
      " p-value=0.004677734981047276, df=1\n"
     ]
    }
   ],
   "source": [
    "x3=x.set_index(\"药物\")\n",
    "oddsratio,pvalue=stats.fisher_exact(x3)\n",
    "print(\"Fisher: \\n odds ratio = {},p-value={}\".format(oddsratio,pvalue))\n",
    "chi2,p,df,exp=stats.chi2_contingency(x3)\n",
    "print(\"Person Chi2：\\n p-value={}, df={}\".format(p,df))"
   ]
  },
  {
   "cell_type": "code",
   "execution_count": null,
   "metadata": {},
   "outputs": [],
   "source": []
  }
 ],
 "metadata": {
  "kernelspec": {
   "display_name": "Python 3",
   "language": "python",
   "name": "python3"
  },
  "language_info": {
   "codemirror_mode": {
    "name": "ipython",
    "version": 3
   },
   "file_extension": ".py",
   "mimetype": "text/x-python",
   "name": "python",
   "nbconvert_exporter": "python",
   "pygments_lexer": "ipython3",
   "version": "3.7.3"
  }
 },
 "nbformat": 4,
 "nbformat_minor": 2
}
