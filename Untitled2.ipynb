{
 "cells": [
  {
   "cell_type": "code",
   "execution_count": 12,
   "metadata": {},
   "outputs": [
    {
     "data": {
      "text/plain": [
       "'C:\\\\Users\\\\lxy\\\\ssss.html'"
      ]
     },
     "execution_count": 12,
     "metadata": {},
     "output_type": "execute_result"
    }
   ],
   "source": [
    "from pyecharts.charts import Map\n",
    "from pyecharts import options as opts\n",
    "from pyecharts.render import make_snapshot\n",
    "from snapshot_selenium import snapshot\n",
    "from pyecharts.globals import ThemeType\n",
    "import pandas as pd\n",
    "\n",
    "data = pd.read_excel('光伏装机潜力.xlsx')\n",
    "data = data.iloc[:-1,:]\n",
    "provinces = data.Name.values\n",
    "GW = data['装机潜力 GW'].values\n",
    "\n",
    "map1 = (\n",
    "Map(init_opts=opts.InitOpts(width = '1800px', height = '1200px', page_title = '装机潜力GW')) # 更改画布大小与html文件的标题\n",
    ".add(\n",
    "\"装机潜力 GW\", # 数据名称\n",
    "[list(z) for z in zip(provinces, GW)], # 数据\n",
    "\"china\", # 中国地图\n",
    "is_map_symbol_show=False, # 不显示标记图形（好像没啥用\n",
    ")\n",
    ".set_global_opts(\n",
    "title_opts=opts.TitleOpts(title=\"装机潜力 GW\"), # 改变图表标题\n",
    "visualmap_opts=opts.VisualMapOpts( \n",
    "is_piecewise=True, # 刻度是非连续的\n",
    "pieces = [ # 规定刻度的范围及颜色\n",
    "{\"min\": 60, \"max\": 70, \"color\" : 'rgb(91,155,213)'},\n",
    "{\"min\": 50, \"max\": 60,\"color\" : 'rgb(155,194,230)'},\n",
    "{\"min\": 40, \"max\": 50,\"color\" : 'rgb(189,215,238)'},\n",
    "{\"min\": 30, \"max\": 40,\"color\" : 'rgb(255,242,204)'},\n",
    "{\"min\": 20, \"max\": 30,\"color\" : 'rgb(255,230,153)'},\n",
    "{\"min\": 10, \"max\": 20,\"color\" : 'rgb(255,217,102)'},\n",
    "{\"min\": 0, \"max\": 10,\"color\" : 'rgb(255,192,0)'},\n",
    "]\n",
    "),\n",
    ")\n",
    ".set_series_opts(label_opts=opts.LabelOpts(is_show=False)) # 不显示标记（就是那个图上的红点点\n",
    ")\n",
    "map1.render(\"ssss.html\")\n",
    "\n",
    "#make_snapshot(snapshot, map1.render(), \"/bar.png\") # 生成图片"
   ]
  },
  {
   "cell_type": "code",
   "execution_count": 8,
   "metadata": {},
   "outputs": [
    {
     "ename": "TypeError",
     "evalue": "add() got an unexpected keyword argument 'visual_range'",
     "output_type": "error",
     "traceback": [
      "\u001b[1;31m---------------------------------------------------------------------------\u001b[0m",
      "\u001b[1;31mTypeError\u001b[0m                                 Traceback (most recent call last)",
      "\u001b[1;32m<ipython-input-8-8bd61cceb453>\u001b[0m in \u001b[0;36m<module>\u001b[1;34m\u001b[0m\n\u001b[0;32m      5\u001b[0m \u001b[0mmap\u001b[0m \u001b[1;33m=\u001b[0m \u001b[0mMap\u001b[0m\u001b[1;33m(\u001b[0m\u001b[1;33m)\u001b[0m\u001b[1;33m\u001b[0m\u001b[1;33m\u001b[0m\u001b[0m\n\u001b[0;32m      6\u001b[0m map.add(\"\", provice, values, visual_range=[0, 50],  maptype='china', is_visualmap=True,\n\u001b[1;32m----> 7\u001b[1;33m     visual_text_color='#000')\n\u001b[0m\u001b[0;32m      8\u001b[0m \u001b[0mmap\u001b[0m\u001b[1;33m.\u001b[0m\u001b[0mshow_config\u001b[0m\u001b[1;33m(\u001b[0m\u001b[1;33m)\u001b[0m\u001b[1;33m\u001b[0m\u001b[1;33m\u001b[0m\u001b[0m\n\u001b[0;32m      9\u001b[0m \u001b[0mmap\u001b[0m\u001b[1;33m.\u001b[0m\u001b[0mrender\u001b[0m\u001b[1;33m(\u001b[0m\u001b[0mpath\u001b[0m\u001b[1;33m=\u001b[0m\u001b[1;34m\"04-01中国地图.html\"\u001b[0m\u001b[1;33m)\u001b[0m\u001b[1;33m\u001b[0m\u001b[1;33m\u001b[0m\u001b[0m\n",
      "\u001b[1;31mTypeError\u001b[0m: add() got an unexpected keyword argument 'visual_range'"
     ]
    }
   ],
   "source": [
    "aaa = pd.read_excel('光伏装机潜力.xlsx')\n",
    "provice=aaa.Name\n",
    "values=aaa[\"装机潜力 GW\"]\n",
    "aaa=pd.read_excel('光伏装机潜力.xlsx')\n",
    "map = Map()\n",
    "map.add(\"\", provice, values, visual_range=[0, 50],  maptype='china', is_visualmap=True,\n",
    "    visual_text_color='#000')\n",
    "map.show_config()\n",
    "map.render(path=\"04-01中国地图.html\")"
   ]
  },
  {
   "cell_type": "code",
   "execution_count": 10,
   "metadata": {},
   "outputs": [
    {
     "data": {
      "text/plain": [
       "array(['北京市', '天津市', '河北省', '上海市', '江苏省', '浙江省', '安徽省', '福建省', '江西省',\n",
       "       '山东省', '河南省', '湖北省', '湖南省', '广东省', '广西壮族自治区', '海南省', '重庆市', '云南省',\n",
       "       '陕西省'], dtype=object)"
      ]
     },
     "execution_count": 10,
     "metadata": {},
     "output_type": "execute_result"
    }
   ],
   "source": [
    "provinces"
   ]
  },
  {
   "cell_type": "code",
   "execution_count": 11,
   "metadata": {},
   "outputs": [
    {
     "data": {
      "text/plain": [
       "array([ 9.86, 13.  , 28.23, 12.85, 62.56, 30.84, 17.97, 14.66, 10.69,\n",
       "       51.96, 17.03, 14.54,  6.46, 61.64,  7.39,  1.2 ,  7.52,  7.41,\n",
       "        7.38])"
      ]
     },
     "execution_count": 11,
     "metadata": {},
     "output_type": "execute_result"
    }
   ],
   "source": [
    "GW"
   ]
  },
  {
   "cell_type": "code",
   "execution_count": 26,
   "metadata": {},
   "outputs": [
    {
     "data": {
      "text/plain": [
       "'C:\\\\Users\\\\lxy\\\\render.html'"
      ]
     },
     "execution_count": 26,
     "metadata": {},
     "output_type": "execute_result"
    }
   ],
   "source": [
    "from pyecharts.charts import Map\n",
    "from pyecharts import options as opts\n",
    "from pyecharts.render import make_snapshot\n",
    "from snapshot_selenium import snapshot\n",
    "from pyecharts.globals import ThemeType\n",
    "import pandas as pd\n",
    "\n",
    "data = pd.read_excel('光伏装机潜力.xlsx')\n",
    "#data = data.iloc[:-1,:]\n",
    "provinces = data.Name.values\n",
    "GW = data['装机潜力 GW'].values\n",
    "maximum = 65\n",
    "# V1 版本开始支持链式调用\n",
    "# 你所看到的格式其实是 `black` 格式化以后的效果\n",
    "# 可以执行 `pip install black` 下载使用\n",
    "map1 = (\n",
    "Map()\n",
    ".add(\"装机潜力 GW\", [list(z) for z in zip(provinces, GW)], \"china\",is_map_symbol_show=False)\n",
    ".set_global_opts(\n",
    "title_opts=opts.TitleOpts(title=\"装机潜力 GW\"),\n",
    "visualmap_opts=opts.VisualMapOpts(max_=maximum, is_piecewise=True),\n",
    ")\n",
    ".set_series_opts(label_opts=opts.LabelOpts(is_show=False))\n",
    "# 或者直接使用字典参数\n",
    "# .set_global_opts(title_opts={\"text\": \"主标题\", \"subtext\": \"副标题\"})\n",
    ")\n",
    "map1.render()"
   ]
  },
  {
   "cell_type": "code",
   "execution_count": 25,
   "metadata": {},
   "outputs": [
    {
     "data": {
      "text/plain": [
       "<zip at 0x2632149d2c8>"
      ]
     },
     "execution_count": 25,
     "metadata": {},
     "output_type": "execute_result"
    }
   ],
   "source": [
    "zip(provinces, GW)"
   ]
  },
  {
   "cell_type": "code",
   "execution_count": 19,
   "metadata": {},
   "outputs": [
    {
     "data": {
      "text/plain": [
       "array(['北京市', '天津市', '河北省', '上海市', '江苏省', '浙江省', '安徽省', '福建省', '江西省',\n",
       "       '山东省', '河南省', '湖北省', '湖南省', '广东省', '广西壮族自治区', '海南省', '重庆市', '云南省'],\n",
       "      dtype=object)"
      ]
     },
     "execution_count": 19,
     "metadata": {},
     "output_type": "execute_result"
    }
   ],
   "source": [
    "provinces"
   ]
  },
  {
   "cell_type": "code",
   "execution_count": 20,
   "metadata": {},
   "outputs": [
    {
     "data": {
      "text/plain": [
       "array([ 9.86, 13.  , 28.23, 12.85, 62.56, 30.84, 17.97, 14.66, 10.69,\n",
       "       51.96, 17.03, 14.54,  6.46, 61.64,  7.39,  1.2 ,  7.52,  7.41])"
      ]
     },
     "execution_count": 20,
     "metadata": {},
     "output_type": "execute_result"
    }
   ],
   "source": [
    "GW"
   ]
  },
  {
   "cell_type": "code",
   "execution_count": null,
   "metadata": {},
   "outputs": [],
   "source": []
  }
 ],
 "metadata": {
  "kernelspec": {
   "display_name": "Python 3",
   "language": "python",
   "name": "python3"
  },
  "language_info": {
   "codemirror_mode": {
    "name": "ipython",
    "version": 3
   },
   "file_extension": ".py",
   "mimetype": "text/x-python",
   "name": "python",
   "nbconvert_exporter": "python",
   "pygments_lexer": "ipython3",
   "version": "3.7.3"
  }
 },
 "nbformat": 4,
 "nbformat_minor": 2
}
